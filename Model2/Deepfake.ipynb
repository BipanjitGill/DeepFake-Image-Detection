{
  "nbformat": 4,
  "nbformat_minor": 0,
  "metadata": {
    "colab": {
      "provenance": [],
      "gpuType": "T4"
    },
    "kernelspec": {
      "name": "python3",
      "display_name": "Python 3"
    },
    "language_info": {
      "name": "python"
    },
    "accelerator": "GPU"
  },
  "cells": [
    {
      "cell_type": "markdown",
      "source": [
        "Importing the Libraries"
      ],
      "metadata": {
        "id": "WQs5bfVNCyI3"
      }
    },
    {
      "cell_type": "code",
      "source": [
        "from PIL import Image,ImageFilter\n",
        "import torchvision.transforms as transforms\n",
        "import torch\n",
        "import matplotlib.pyplot as plt\n",
        "import os\n",
        "import numpy as np\n",
        "import matplotlib.pyplot as plt\n"
      ],
      "metadata": {
        "id": "H_9wdv0N_4_u"
      },
      "execution_count": 1,
      "outputs": []
    },
    {
      "cell_type": "markdown",
      "source": [
        "Mounting the Google Drive"
      ],
      "metadata": {
        "id": "WS59CwVSC8P-"
      }
    },
    {
      "cell_type": "code",
      "execution_count": 2,
      "metadata": {
        "colab": {
          "base_uri": "https://localhost:8080/"
        },
        "id": "OjHJV7ouL3jB",
        "outputId": "913ecea2-29e0-4615-ecd8-737bf8421ada"
      },
      "outputs": [
        {
          "output_type": "stream",
          "name": "stdout",
          "text": [
            "Mounted at /content/drive/\n"
          ]
        }
      ],
      "source": [
        "from google.colab import drive\n",
        "drive.mount('/content/drive/')"
      ]
    },
    {
      "cell_type": "markdown",
      "source": [
        "Installing the **CLIP(Contrastive Language-Image Pretraining)** model from **OpenAI** Github repository\n"
      ],
      "metadata": {
        "id": "XrGYu2evDDEJ"
      }
    },
    {
      "cell_type": "code",
      "source": [
        "! pip install ftfy regex tqdm\n",
        "! pip install git+https://github.com/openai/CLIP.git"
      ],
      "metadata": {
        "colab": {
          "base_uri": "https://localhost:8080/"
        },
        "id": "JEO_WlHXOggk",
        "outputId": "b0d126ce-3f42-47c6-a5d8-0f24f1c6a60a"
      },
      "execution_count": 3,
      "outputs": [
        {
          "output_type": "stream",
          "name": "stdout",
          "text": [
            "Collecting ftfy\n",
            "  Downloading ftfy-6.1.3-py3-none-any.whl (53 kB)\n",
            "\u001b[?25l     \u001b[90m━━━━━━━━━━━━━━━━━━━━━━━━━━━━━━━━━━━━━━━━\u001b[0m \u001b[32m0.0/53.4 kB\u001b[0m \u001b[31m?\u001b[0m eta \u001b[36m-:--:--\u001b[0m\r\u001b[2K     \u001b[90m━━━━━━━━━━━━━━━━━━━━━━━━━━━━━━━━━━━━━━━━\u001b[0m \u001b[32m53.4/53.4 kB\u001b[0m \u001b[31m1.7 MB/s\u001b[0m eta \u001b[36m0:00:00\u001b[0m\n",
            "\u001b[?25hRequirement already satisfied: regex in /usr/local/lib/python3.10/dist-packages (2023.12.25)\n",
            "Requirement already satisfied: tqdm in /usr/local/lib/python3.10/dist-packages (4.66.1)\n",
            "Requirement already satisfied: wcwidth<0.3.0,>=0.2.12 in /usr/local/lib/python3.10/dist-packages (from ftfy) (0.2.13)\n",
            "Installing collected packages: ftfy\n",
            "Successfully installed ftfy-6.1.3\n",
            "Collecting git+https://github.com/openai/CLIP.git\n",
            "  Cloning https://github.com/openai/CLIP.git to /tmp/pip-req-build-8oxgh3qd\n",
            "  Running command git clone --filter=blob:none --quiet https://github.com/openai/CLIP.git /tmp/pip-req-build-8oxgh3qd\n",
            "  Resolved https://github.com/openai/CLIP.git to commit a1d071733d7111c9c014f024669f959182114e33\n",
            "  Preparing metadata (setup.py) ... \u001b[?25l\u001b[?25hdone\n",
            "Requirement already satisfied: ftfy in /usr/local/lib/python3.10/dist-packages (from clip==1.0) (6.1.3)\n",
            "Requirement already satisfied: regex in /usr/local/lib/python3.10/dist-packages (from clip==1.0) (2023.12.25)\n",
            "Requirement already satisfied: tqdm in /usr/local/lib/python3.10/dist-packages (from clip==1.0) (4.66.1)\n",
            "Requirement already satisfied: torch in /usr/local/lib/python3.10/dist-packages (from clip==1.0) (2.1.0+cu121)\n",
            "Requirement already satisfied: torchvision in /usr/local/lib/python3.10/dist-packages (from clip==1.0) (0.16.0+cu121)\n",
            "Requirement already satisfied: wcwidth<0.3.0,>=0.2.12 in /usr/local/lib/python3.10/dist-packages (from ftfy->clip==1.0) (0.2.13)\n",
            "Requirement already satisfied: filelock in /usr/local/lib/python3.10/dist-packages (from torch->clip==1.0) (3.13.1)\n",
            "Requirement already satisfied: typing-extensions in /usr/local/lib/python3.10/dist-packages (from torch->clip==1.0) (4.9.0)\n",
            "Requirement already satisfied: sympy in /usr/local/lib/python3.10/dist-packages (from torch->clip==1.0) (1.12)\n",
            "Requirement already satisfied: networkx in /usr/local/lib/python3.10/dist-packages (from torch->clip==1.0) (3.2.1)\n",
            "Requirement already satisfied: jinja2 in /usr/local/lib/python3.10/dist-packages (from torch->clip==1.0) (3.1.3)\n",
            "Requirement already satisfied: fsspec in /usr/local/lib/python3.10/dist-packages (from torch->clip==1.0) (2023.6.0)\n",
            "Requirement already satisfied: triton==2.1.0 in /usr/local/lib/python3.10/dist-packages (from torch->clip==1.0) (2.1.0)\n",
            "Requirement already satisfied: numpy in /usr/local/lib/python3.10/dist-packages (from torchvision->clip==1.0) (1.23.5)\n",
            "Requirement already satisfied: requests in /usr/local/lib/python3.10/dist-packages (from torchvision->clip==1.0) (2.31.0)\n",
            "Requirement already satisfied: pillow!=8.3.*,>=5.3.0 in /usr/local/lib/python3.10/dist-packages (from torchvision->clip==1.0) (9.4.0)\n",
            "Requirement already satisfied: MarkupSafe>=2.0 in /usr/local/lib/python3.10/dist-packages (from jinja2->torch->clip==1.0) (2.1.5)\n",
            "Requirement already satisfied: charset-normalizer<4,>=2 in /usr/local/lib/python3.10/dist-packages (from requests->torchvision->clip==1.0) (3.3.2)\n",
            "Requirement already satisfied: idna<4,>=2.5 in /usr/local/lib/python3.10/dist-packages (from requests->torchvision->clip==1.0) (3.6)\n",
            "Requirement already satisfied: urllib3<3,>=1.21.1 in /usr/local/lib/python3.10/dist-packages (from requests->torchvision->clip==1.0) (2.0.7)\n",
            "Requirement already satisfied: certifi>=2017.4.17 in /usr/local/lib/python3.10/dist-packages (from requests->torchvision->clip==1.0) (2024.2.2)\n",
            "Requirement already satisfied: mpmath>=0.19 in /usr/local/lib/python3.10/dist-packages (from sympy->torch->clip==1.0) (1.3.0)\n",
            "Building wheels for collected packages: clip\n",
            "  Building wheel for clip (setup.py) ... \u001b[?25l\u001b[?25hdone\n",
            "  Created wheel for clip: filename=clip-1.0-py3-none-any.whl size=1369497 sha256=aa5801a6a61404b1d280d23f1bc3b50acf05608a20017fd0dd67ebc475490b54\n",
            "  Stored in directory: /tmp/pip-ephem-wheel-cache-xuar8vll/wheels/da/2b/4c/d6691fa9597aac8bb85d2ac13b112deb897d5b50f5ad9a37e4\n",
            "Successfully built clip\n",
            "Installing collected packages: clip\n",
            "Successfully installed clip-1.0\n"
          ]
        }
      ]
    },
    {
      "cell_type": "code",
      "source": [
        "import torch\n",
        "from pkg_resources import packaging\n",
        "import clip\n"
      ],
      "metadata": {
        "id": "xazUK8mkOhfV"
      },
      "execution_count": 4,
      "outputs": []
    },
    {
      "cell_type": "markdown",
      "source": [
        "CLIP Available Model"
      ],
      "metadata": {
        "id": "a7faQkOTEI2U"
      }
    },
    {
      "cell_type": "code",
      "source": [
        "print(\"Torch version:\", torch.__version__)\n",
        "\n",
        "clip.available_models()"
      ],
      "metadata": {
        "colab": {
          "base_uri": "https://localhost:8080/"
        },
        "id": "0gKyDD0wOkCY",
        "outputId": "ffb6ff00-ebbd-45bc-9d71-c9a96532d35c"
      },
      "execution_count": 5,
      "outputs": [
        {
          "output_type": "stream",
          "name": "stdout",
          "text": [
            "Torch version: 2.1.0+cu121\n"
          ]
        },
        {
          "output_type": "execute_result",
          "data": {
            "text/plain": [
              "['RN50',\n",
              " 'RN101',\n",
              " 'RN50x4',\n",
              " 'RN50x16',\n",
              " 'RN50x64',\n",
              " 'ViT-B/32',\n",
              " 'ViT-B/16',\n",
              " 'ViT-L/14',\n",
              " 'ViT-L/14@336px']"
            ]
          },
          "metadata": {},
          "execution_count": 5
        }
      ]
    },
    {
      "cell_type": "markdown",
      "source": [
        "Importing \"**ViT-L/14**\" Model"
      ],
      "metadata": {
        "id": "-BTNgD0IGpAB"
      }
    },
    {
      "cell_type": "code",
      "source": [
        "model, preprocess = clip.load(\"ViT-L/14\")\n",
        "model.cuda().eval()\n",
        "input_resolution = model.visual.input_resolution\n",
        "context_length = model.context_length\n",
        "vocab_size = model.vocab_size\n",
        "\n",
        "print(\"Model parameters:\", f\"{np.sum([int(np.prod(p.shape)) for p in model.parameters()]):,}\")\n",
        "print(\"Input resolution:\", input_resolution)\n",
        "print(\"Context length:\", context_length)\n",
        "print(\"Vocab size:\", vocab_size)"
      ],
      "metadata": {
        "colab": {
          "base_uri": "https://localhost:8080/"
        },
        "id": "27iP_zGVOqIN",
        "outputId": "5c39dded-423b-421f-9e60-7d0f5841069f"
      },
      "execution_count": 6,
      "outputs": [
        {
          "output_type": "stream",
          "name": "stderr",
          "text": [
            "100%|███████████████████████████████████████| 890M/890M [00:11<00:00, 83.8MiB/s]\n"
          ]
        },
        {
          "output_type": "stream",
          "name": "stdout",
          "text": [
            "Model parameters: 427,616,513\n",
            "Input resolution: 224\n",
            "Context length: 77\n",
            "Vocab size: 49408\n"
          ]
        }
      ]
    },
    {
      "cell_type": "markdown",
      "source": [
        "Applying **Gaussian Blur** and **JPEG Compression**"
      ],
      "metadata": {
        "id": "W6jWEgbdHh59"
      }
    },
    {
      "cell_type": "code",
      "source": [
        "def custom_augmentation(image_path, blur_prob=0.5, jpeg_prob=1):\n",
        "    image = Image.open(image_path)\n",
        "\n",
        "    if torch.rand(1).item() < blur_prob:\n",
        "        image = image.filter(ImageFilter.GaussianBlur(radius=2))\n",
        "\n",
        "    if torch.rand(1).item() < jpeg_prob:\n",
        "        temp_path = 'temp.jpg'\n",
        "        image.save(temp_path, format='JPEG', quality=80)\n",
        "        image = Image.open(temp_path)\n",
        "        os.remove(temp_path)\n",
        "    return image\n"
      ],
      "metadata": {
        "id": "8cfiZ2H2OXft"
      },
      "execution_count": 7,
      "outputs": []
    },
    {
      "cell_type": "markdown",
      "source": [
        "  Creating Training Dataset"
      ],
      "metadata": {
        "id": "gN0fZB2XefYj"
      }
    },
    {
      "cell_type": "code",
      "source": [
        "gan=\"/content/drive/MyDrive/Deep Fake/Dataset/GAN/biggan\"\n",
        "real=\"/content/drive/MyDrive/Deep Fake/Dataset/Real/0_real\"\n",
        "train_fake=os.listdir(gan)\n",
        "train_real=os.listdir(real)"
      ],
      "metadata": {
        "id": "zsqfqL7BOt2Y"
      },
      "execution_count": 8,
      "outputs": []
    },
    {
      "cell_type": "code",
      "source": [
        "for i in range(len(train_fake)):\n",
        "   train_fake[i]=gan+'/'+train_fake[i]\n",
        "\n",
        "for i in range(len(train_real)):\n",
        "   train_real[i]=real+'/'+train_real[i]"
      ],
      "metadata": {
        "id": "1qwymYgrOxLn"
      },
      "execution_count": 9,
      "outputs": []
    },
    {
      "cell_type": "code",
      "source": [
        "Im_train_fake = []\n",
        "Im_train_real = []\n",
        "\n",
        "for i in range(700):\n",
        "  augumented_img=custom_augmentation(train_fake[i])\n",
        "  Im_train_fake.append(preprocess(augumented_img))\n",
        "\n",
        "for i in range(700):\n",
        "  augumented_img=custom_augmentation(train_real[i])\n",
        "  Im_train_real.append(preprocess(augumented_img))"
      ],
      "metadata": {
        "id": "B1fvftn7OzTY"
      },
      "execution_count": 10,
      "outputs": []
    },
    {
      "cell_type": "code",
      "source": [
        "image_input_fake = torch.tensor(np.stack(Im_train_fake)).cuda()\n",
        "image_input_real = torch.tensor(np.stack(Im_train_real)).cuda()"
      ],
      "metadata": {
        "id": "K5kVk_0YO13V"
      },
      "execution_count": 11,
      "outputs": []
    },
    {
      "cell_type": "code",
      "source": [
        "with torch.no_grad():\n",
        "    features_fake = model.encode_image(image_input_fake).float().cuda()\n",
        "    features_real = model.encode_image(image_input_real).float().cuda()"
      ],
      "metadata": {
        "id": "MyxTW3CyO4Nz"
      },
      "execution_count": 12,
      "outputs": []
    },
    {
      "cell_type": "code",
      "source": [
        "print(len(features_fake[0]))"
      ],
      "metadata": {
        "colab": {
          "base_uri": "https://localhost:8080/"
        },
        "id": "QcnkFe5QO66M",
        "outputId": "3821a584-0274-4ea4-c7e5-48480f6b95d0"
      },
      "execution_count": 13,
      "outputs": [
        {
          "output_type": "stream",
          "name": "stdout",
          "text": [
            "768\n"
          ]
        }
      ]
    },
    {
      "cell_type": "code",
      "source": [
        "labels_fake = torch.zeros(features_fake.shape[0], 1).cuda()\n",
        "labels_real = torch.ones(features_real.shape[0], 1).cuda()\n",
        "\n",
        "features = torch.cat([features_fake, features_real])\n",
        "labels = torch.cat([labels_fake, labels_real])"
      ],
      "metadata": {
        "id": "HDUeqApmrzF5"
      },
      "execution_count": 14,
      "outputs": []
    },
    {
      "cell_type": "markdown",
      "source": [
        "Defing the parameeters of **Autoencoders**"
      ],
      "metadata": {
        "id": "uXj8lxMYetm3"
      }
    },
    {
      "cell_type": "code",
      "source": [
        "input_size = features_fake.shape[1]\n",
        "encoded_size = 200\n",
        "features = features.cuda()\n",
        "labels=labels.cuda()"
      ],
      "metadata": {
        "id": "FtS0mq0MsGbE"
      },
      "execution_count": 15,
      "outputs": []
    },
    {
      "cell_type": "code",
      "source": [
        "import torch.optim as optim\n",
        "import torch.nn as nn"
      ],
      "metadata": {
        "id": "5dUSnGYKATUb"
      },
      "execution_count": 16,
      "outputs": []
    },
    {
      "cell_type": "markdown",
      "source": [
        "Training the **Encoder** and **Decoder**"
      ],
      "metadata": {
        "id": "IzBHGNkpe310"
      }
    },
    {
      "cell_type": "code",
      "source": [
        "encoderfn = nn.Sequential(\n",
        "        nn.Linear(input_size, 1000),\n",
        "        nn.ReLU(),\n",
        "        nn.Linear(1000, encoded_size),\n",
        "        nn.ReLU()\n",
        "    )\n",
        "decoderfn = nn.Sequential(\n",
        "        nn.Linear(encoded_size, 1000),\n",
        "        nn.ReLU(),\n",
        "        nn.Linear(1000, input_size),\n",
        "        nn.Sigmoid()\n",
        "    )\n",
        "\n",
        "criterion = nn.MSELoss()\n",
        "optimizer = optim.Adam(list(encoderfn.parameters()) + list(decoderfn.parameters()), lr=0.001)\n",
        "encoderfn = encoderfn.cuda()\n",
        "decoderfn = decoderfn.cuda()\n",
        "num_epochs = 20\n",
        "for epoch in range(num_epochs):\n",
        "        optimizer.zero_grad()\n",
        "        encoded = encoderfn(features.cuda())\n",
        "        decoded = decoderfn(encoded)\n",
        "        loss = criterion(decoded, features)\n",
        "        loss.backward()\n",
        "        optimizer.step()\n",
        "        print(f\"Epoch {epoch+1}/{num_epochs}, Loss: {loss.item()}\")\n"
      ],
      "metadata": {
        "colab": {
          "base_uri": "https://localhost:8080/"
        },
        "id": "VJIOqquzsKZX",
        "outputId": "e433a270-f292-49ee-ab13-9e9930eacb0e"
      },
      "execution_count": 17,
      "outputs": [
        {
          "output_type": "stream",
          "name": "stdout",
          "text": [
            "Epoch 1/20, Loss: 0.6942101716995239\n",
            "Epoch 2/20, Loss: 0.6712843179702759\n",
            "Epoch 3/20, Loss: 0.6176734566688538\n",
            "Epoch 4/20, Loss: 0.5222785472869873\n",
            "Epoch 5/20, Loss: 0.4317368268966675\n",
            "Epoch 6/20, Loss: 0.40486952662467957\n",
            "Epoch 7/20, Loss: 0.4032512605190277\n",
            "Epoch 8/20, Loss: 0.40283918380737305\n",
            "Epoch 9/20, Loss: 0.40262067317962646\n",
            "Epoch 10/20, Loss: 0.40362751483917236\n",
            "Epoch 11/20, Loss: 0.4039897620677948\n",
            "Epoch 12/20, Loss: 0.4028211236000061\n",
            "Epoch 13/20, Loss: 0.40347614884376526\n",
            "Epoch 14/20, Loss: 0.4035838842391968\n",
            "Epoch 15/20, Loss: 0.40366843342781067\n",
            "Epoch 16/20, Loss: 0.40472304821014404\n",
            "Epoch 17/20, Loss: 0.40407612919807434\n",
            "Epoch 18/20, Loss: 0.4041656255722046\n",
            "Epoch 19/20, Loss: 0.40374618768692017\n",
            "Epoch 20/20, Loss: 0.40372326970100403\n"
          ]
        }
      ]
    },
    {
      "cell_type": "markdown",
      "source": [
        "Reducing the dimension of training data"
      ],
      "metadata": {
        "id": "LHHOaDF_e__N"
      }
    },
    {
      "cell_type": "code",
      "source": [
        "with torch.no_grad():\n",
        "      reduced_features = encoderfn(features).float().cuda()\n",
        "reduced_features_np=reduced_features.cpu().numpy()"
      ],
      "metadata": {
        "id": "Vry-Gxj4tOXU"
      },
      "execution_count": 18,
      "outputs": []
    },
    {
      "cell_type": "code",
      "source": [
        "labels =labels.cpu().numpy()"
      ],
      "metadata": {
        "id": "oUAUB_zSO_1o"
      },
      "execution_count": 19,
      "outputs": []
    },
    {
      "cell_type": "markdown",
      "source": [
        "Visualizing the Real and Fake Images using **TSNE**"
      ],
      "metadata": {
        "id": "zamZbl7xfFq9"
      }
    },
    {
      "cell_type": "code",
      "source": [
        "from sklearn.manifold import TSNE"
      ],
      "metadata": {
        "id": "WZCRi0fvn4EA"
      },
      "execution_count": 20,
      "outputs": []
    },
    {
      "cell_type": "code",
      "source": [
        "tsne=TSNE(learning_rate=500,n_components=2)\n",
        "data_norm=reduced_features_np\n",
        "x_tsne=tsne.fit_transform(data_norm)\n",
        "y_tsne=labels\n"
      ],
      "metadata": {
        "id": "8rQ9WkkapDkF"
      },
      "execution_count": 21,
      "outputs": []
    },
    {
      "cell_type": "code",
      "source": [
        "plt.scatter(x_tsne[np.where(y_tsne==0),0],x_tsne[np.where(y_tsne==0),1],color='g',s=1,label=\"Fake\")\n",
        "plt.scatter(x_tsne[np.where(y_tsne==1),0],x_tsne[np.where(y_tsne==1),1],color='r',s=1,label=\"Real\")\n",
        "plt.legend()\n",
        "plt.show()"
      ],
      "metadata": {
        "colab": {
          "base_uri": "https://localhost:8080/",
          "height": 430
        },
        "id": "NIPnefPDrfyF",
        "outputId": "cb2a1121-d841-438d-f169-98d035776c2f"
      },
      "execution_count": 22,
      "outputs": [
        {
          "output_type": "display_data",
          "data": {
            "text/plain": [
              "<Figure size 640x480 with 1 Axes>"
            ],
            "image/png": "[encoded data removed]"
          },
          "metadata": {}
        }
      ]
    },
    {
      "cell_type": "markdown",
      "source": [
        "Creating Test Dataset"
      ],
      "metadata": {
        "id": "EE9go7Hsfc8r"
      }
    },
    {
      "cell_type": "code",
      "source": [
        "dalle=\"/content/drive/MyDrive/Deep Fake/Dataset/DM/Dalle/1_fake\"\n",
        "real=\"/content/drive/MyDrive/Deep Fake/Dataset/Real/0_real\"\n",
        "test_fake=os.listdir(dalle)\n",
        "test_real=os.listdir(real)"
      ],
      "metadata": {
        "id": "7OPSn0qaPKGW"
      },
      "execution_count": 23,
      "outputs": []
    },
    {
      "cell_type": "code",
      "source": [
        "for i in range(len(test_fake)):\n",
        "   test_fake[i]=dalle+'/'+test_fake[i]\n",
        "\n",
        "for i in range(len(test_real)):\n",
        "   test_real[i]=real+'/'+test_real[i]"
      ],
      "metadata": {
        "id": "n2UGvhgeQHy5"
      },
      "execution_count": 24,
      "outputs": []
    },
    {
      "cell_type": "code",
      "source": [
        "test=[]\n",
        "\n",
        "for i in range(100,400):\n",
        "  test.append([test_fake[i],0])\n",
        "\n",
        "for i in range(700,1000):\n",
        "  test.append([test_real[i],1])"
      ],
      "metadata": {
        "id": "sKWNno1tPNhD"
      },
      "execution_count": 25,
      "outputs": []
    },
    {
      "cell_type": "markdown",
      "source": [
        "**Nearest Neighbours** (Classification)"
      ],
      "metadata": {
        "id": "Ae8qz-tpF_76"
      }
    },
    {
      "cell_type": "code",
      "source": [
        "from sklearn.neighbors import NearestNeighbors\n",
        "nn_model = NearestNeighbors(n_neighbors=5, metric='cosine')\n",
        "nn_model.fit(reduced_features_np)"
      ],
      "metadata": {
        "colab": {
          "base_uri": "https://localhost:8080/",
          "height": 74
        },
        "id": "zrxZ06iAPCBH",
        "outputId": "12eb27c2-1af8-4256-88fb-512a89dd49dc"
      },
      "execution_count": 26,
      "outputs": [
        {
          "output_type": "execute_result",
          "data": {
            "text/plain": [
              "NearestNeighbors(metric='cosine')"
            ],
            "text/html": [
              "<style>#sk-container-id-1 {color: black;background-color: white;}#sk-container-id-1 pre{padding: 0;}#sk-container-id-1 div.sk-toggleable {background-color: white;}#sk-container-id-1 label.sk-toggleable__label {cursor: pointer;display: block;width: 100%;margin-bottom: 0;padding: 0.3em;box-sizing: border-box;text-align: center;}#sk-container-id-1 label.sk-toggleable__label-arrow:before {content: \"▸\";float: left;margin-right: 0.25em;color: #696969;}#sk-container-id-1 label.sk-toggleable__label-arrow:hover:before {color: black;}#sk-container-id-1 div.sk-estimator:hover label.sk-toggleable__label-arrow:before {color: black;}#sk-container-id-1 div.sk-toggleable__content {max-height: 0;max-width: 0;overflow: hidden;text-align: left;background-color: #f0f8ff;}#sk-container-id-1 div.sk-toggleable__content pre {margin: 0.2em;color: black;border-radius: 0.25em;background-color: #f0f8ff;}#sk-container-id-1 input.sk-toggleable__control:checked~div.sk-toggleable__content {max-height: 200px;max-width: 100%;overflow: auto;}#sk-container-id-1 input.sk-toggleable__control:checked~label.sk-toggleable__label-arrow:before {content: \"▾\";}#sk-container-id-1 div.sk-estimator input.sk-toggleable__control:checked~label.sk-toggleable__label {background-color: #d4ebff;}#sk-container-id-1 div.sk-label input.sk-toggleable__control:checked~label.sk-toggleable__label {background-color: #d4ebff;}#sk-container-id-1 input.sk-hidden--visually {border: 0;clip: rect(1px 1px 1px 1px);clip: rect(1px, 1px, 1px, 1px);height: 1px;margin: -1px;overflow: hidden;padding: 0;position: absolute;width: 1px;}#sk-container-id-1 div.sk-estimator {font-family: monospace;background-color: #f0f8ff;border: 1px dotted black;border-radius: 0.25em;box-sizing: border-box;margin-bottom: 0.5em;}#sk-container-id-1 div.sk-estimator:hover {background-color: #d4ebff;}#sk-container-id-1 div.sk-parallel-item::after {content: \"\";width: 100%;border-bottom: 1px solid gray;flex-grow: 1;}#sk-container-id-1 div.sk-label:hover label.sk-toggleable__label {background-color: #d4ebff;}#sk-container-id-1 div.sk-serial::before {content: \"\";position: absolute;border-left: 1px solid gray;box-sizing: border-box;top: 0;bottom: 0;left: 50%;z-index: 0;}#sk-container-id-1 div.sk-serial {display: flex;flex-direction: column;align-items: center;background-color: white;padding-right: 0.2em;padding-left: 0.2em;position: relative;}#sk-container-id-1 div.sk-item {position: relative;z-index: 1;}#sk-container-id-1 div.sk-parallel {display: flex;align-items: stretch;justify-content: center;background-color: white;position: relative;}#sk-container-id-1 div.sk-item::before, #sk-container-id-1 div.sk-parallel-item::before {content: \"\";position: absolute;border-left: 1px solid gray;box-sizing: border-box;top: 0;bottom: 0;left: 50%;z-index: -1;}#sk-container-id-1 div.sk-parallel-item {display: flex;flex-direction: column;z-index: 1;position: relative;background-color: white;}#sk-container-id-1 div.sk-parallel-item:first-child::after {align-self: flex-end;width: 50%;}#sk-container-id-1 div.sk-parallel-item:last-child::after {align-self: flex-start;width: 50%;}#sk-container-id-1 div.sk-parallel-item:only-child::after {width: 0;}#sk-container-id-1 div.sk-dashed-wrapped {border: 1px dashed gray;margin: 0 0.4em 0.5em 0.4em;box-sizing: border-box;padding-bottom: 0.4em;background-color: white;}#sk-container-id-1 div.sk-label label {font-family: monospace;font-weight: bold;display: inline-block;line-height: 1.2em;}#sk-container-id-1 div.sk-label-container {text-align: center;}#sk-container-id-1 div.sk-container {/* jupyter's `normalize.less` sets `[hidden] { display: none; }` but bootstrap.min.css set `[hidden] { display: none !important; }` so we also need the `!important` here to be able to override the default hidden behavior on the sphinx rendered scikit-learn.org. See: https://github.com/scikit-learn/scikit-learn/issues/21755 */display: inline-block !important;position: relative;}#sk-container-id-1 div.sk-text-repr-fallback {display: none;}</style><div id=\"sk-container-id-1\" class=\"sk-top-container\"><div class=\"sk-text-repr-fallback\"><pre>NearestNeighbors(metric=&#x27;cosine&#x27;)</pre><b>In a Jupyter environment, please rerun this cell to show the HTML representation or trust the notebook. <br />On GitHub, the HTML representation is unable to render, please try loading this page with nbviewer.org.</b></div><div class=\"sk-container\" hidden><div class=\"sk-item\"><div class=\"sk-estimator sk-toggleable\"><input class=\"sk-toggleable__control sk-hidden--visually\" id=\"sk-estimator-id-1\" type=\"checkbox\" checked><label for=\"sk-estimator-id-1\" class=\"sk-toggleable__label sk-toggleable__label-arrow\">NearestNeighbors</label><div class=\"sk-toggleable__content\"><pre>NearestNeighbors(metric=&#x27;cosine&#x27;)</pre></div></div></div></div></div>"
            ]
          },
          "metadata": {},
          "execution_count": 26
        }
      ]
    },
    {
      "cell_type": "code",
      "source": [
        "def predict_real_or_fake_nn(image_input, threshold=0.5):\n",
        "    features = model.encode_image(image_input).float().cuda()\n",
        "    with torch.no_grad():\n",
        "      reduced_features = encoderfn(features).float().cuda()\n",
        "    features=reduced_features.cpu().numpy()\n",
        "\n",
        "    _, indices = nn_model.kneighbors(features, 5)\n",
        "\n",
        "    nearest_neighbor_labels = labels[indices[0]]\n",
        "\n",
        "    prediction = 1 if sum(nearest_neighbor_labels) >= 3 else 0\n",
        "\n",
        "    return prediction\n"
      ],
      "metadata": {
        "id": "9eTU0tnFPEIv"
      },
      "execution_count": 27,
      "outputs": []
    },
    {
      "cell_type": "code",
      "source": [
        "from sklearn.metrics import accuracy_score, precision_score, recall_score, f1_score\n",
        "\n",
        "def evaluate_model_nn(test_data):\n",
        "    predictions = []\n",
        "    ground_truth = []\n",
        "\n",
        "    with torch.no_grad():\n",
        "        for image_path, label in test_data:\n",
        "            img=custom_augmentation(image_path)\n",
        "            image = preprocess(img).unsqueeze(0).cuda()\n",
        "            prediction = predict_real_or_fake_nn(image)\n",
        "            predictions.append(prediction)\n",
        "            ground_truth.append(label)\n",
        "            # print(\"prediction\",prediction,\"  true\",label)\n",
        "\n",
        "    predictions = torch.tensor(predictions).cuda()\n",
        "    ground_truth = torch.tensor(ground_truth).cuda()\n",
        "\n",
        "    accuracy = accuracy_score(ground_truth.cpu(), predictions.cpu())\n",
        "    precision = precision_score(ground_truth.cpu(), predictions.cpu())\n",
        "    recall = recall_score(ground_truth.cpu(), predictions.cpu())\n",
        "    f1 = f1_score(ground_truth.cpu(), predictions.cpu())\n",
        "\n",
        "    print(f\"Accuracy: {accuracy:.4f}\")\n",
        "    print(f\"Precision: {precision:.4f}\")\n",
        "    print(f\"Recall: {recall:.4f}\")\n",
        "    print(f\"F1 Score: {f1:.4f}\")\n"
      ],
      "metadata": {
        "id": "PGpaLo8GPQd3"
      },
      "execution_count": 28,
      "outputs": []
    },
    {
      "cell_type": "markdown",
      "source": [
        "Evaluation of Nearest Neighbour model"
      ],
      "metadata": {
        "id": "p8Fp2PYLfht3"
      }
    },
    {
      "cell_type": "code",
      "source": [
        "evaluate_model_nn(test)"
      ],
      "metadata": {
        "colab": {
          "base_uri": "https://localhost:8080/"
        },
        "id": "_kztef47PS6Z",
        "outputId": "60fd90dc-5b3e-4d09-8b2a-3ccb3604fba8"
      },
      "execution_count": 29,
      "outputs": [
        {
          "output_type": "stream",
          "name": "stdout",
          "text": [
            "Accuracy: 0.8283\n",
            "Precision: 0.8031\n",
            "Recall: 0.8700\n",
            "F1 Score: 0.8352\n"
          ]
        }
      ]
    },
    {
      "cell_type": "markdown",
      "source": [
        "**Decision Tree Classifier** (Classification)"
      ],
      "metadata": {
        "id": "5Ys67xFDGKld"
      }
    },
    {
      "cell_type": "code",
      "source": [
        "from sklearn.tree import DecisionTreeClassifier\n",
        "dtc = DecisionTreeClassifier(max_depth=9)\n"
      ],
      "metadata": {
        "id": "0tVjF6h4WNrR"
      },
      "execution_count": 30,
      "outputs": []
    },
    {
      "cell_type": "code",
      "source": [
        "dtc.fit(reduced_features_np,labels)"
      ],
      "metadata": {
        "colab": {
          "base_uri": "https://localhost:8080/",
          "height": 74
        },
        "id": "fYjZzm_eWvjo",
        "outputId": "0c96f050-35ab-4333-c04d-8b1e7cd82196"
      },
      "execution_count": 31,
      "outputs": [
        {
          "output_type": "execute_result",
          "data": {
            "text/plain": [
              "DecisionTreeClassifier(max_depth=9)"
            ],
            "text/html": [
              "<style>#sk-container-id-2 {color: black;background-color: white;}#sk-container-id-2 pre{padding: 0;}#sk-container-id-2 div.sk-toggleable {background-color: white;}#sk-container-id-2 label.sk-toggleable__label {cursor: pointer;display: block;width: 100%;margin-bottom: 0;padding: 0.3em;box-sizing: border-box;text-align: center;}#sk-container-id-2 label.sk-toggleable__label-arrow:before {content: \"▸\";float: left;margin-right: 0.25em;color: #696969;}#sk-container-id-2 label.sk-toggleable__label-arrow:hover:before {color: black;}#sk-container-id-2 div.sk-estimator:hover label.sk-toggleable__label-arrow:before {color: black;}#sk-container-id-2 div.sk-toggleable__content {max-height: 0;max-width: 0;overflow: hidden;text-align: left;background-color: #f0f8ff;}#sk-container-id-2 div.sk-toggleable__content pre {margin: 0.2em;color: black;border-radius: 0.25em;background-color: #f0f8ff;}#sk-container-id-2 input.sk-toggleable__control:checked~div.sk-toggleable__content {max-height: 200px;max-width: 100%;overflow: auto;}#sk-container-id-2 input.sk-toggleable__control:checked~label.sk-toggleable__label-arrow:before {content: \"▾\";}#sk-container-id-2 div.sk-estimator input.sk-toggleable__control:checked~label.sk-toggleable__label {background-color: #d4ebff;}#sk-container-id-2 div.sk-label input.sk-toggleable__control:checked~label.sk-toggleable__label {background-color: #d4ebff;}#sk-container-id-2 input.sk-hidden--visually {border: 0;clip: rect(1px 1px 1px 1px);clip: rect(1px, 1px, 1px, 1px);height: 1px;margin: -1px;overflow: hidden;padding: 0;position: absolute;width: 1px;}#sk-container-id-2 div.sk-estimator {font-family: monospace;background-color: #f0f8ff;border: 1px dotted black;border-radius: 0.25em;box-sizing: border-box;margin-bottom: 0.5em;}#sk-container-id-2 div.sk-estimator:hover {background-color: #d4ebff;}#sk-container-id-2 div.sk-parallel-item::after {content: \"\";width: 100%;border-bottom: 1px solid gray;flex-grow: 1;}#sk-container-id-2 div.sk-label:hover label.sk-toggleable__label {background-color: #d4ebff;}#sk-container-id-2 div.sk-serial::before {content: \"\";position: absolute;border-left: 1px solid gray;box-sizing: border-box;top: 0;bottom: 0;left: 50%;z-index: 0;}#sk-container-id-2 div.sk-serial {display: flex;flex-direction: column;align-items: center;background-color: white;padding-right: 0.2em;padding-left: 0.2em;position: relative;}#sk-container-id-2 div.sk-item {position: relative;z-index: 1;}#sk-container-id-2 div.sk-parallel {display: flex;align-items: stretch;justify-content: center;background-color: white;position: relative;}#sk-container-id-2 div.sk-item::before, #sk-container-id-2 div.sk-parallel-item::before {content: \"\";position: absolute;border-left: 1px solid gray;box-sizing: border-box;top: 0;bottom: 0;left: 50%;z-index: -1;}#sk-container-id-2 div.sk-parallel-item {display: flex;flex-direction: column;z-index: 1;position: relative;background-color: white;}#sk-container-id-2 div.sk-parallel-item:first-child::after {align-self: flex-end;width: 50%;}#sk-container-id-2 div.sk-parallel-item:last-child::after {align-self: flex-start;width: 50%;}#sk-container-id-2 div.sk-parallel-item:only-child::after {width: 0;}#sk-container-id-2 div.sk-dashed-wrapped {border: 1px dashed gray;margin: 0 0.4em 0.5em 0.4em;box-sizing: border-box;padding-bottom: 0.4em;background-color: white;}#sk-container-id-2 div.sk-label label {font-family: monospace;font-weight: bold;display: inline-block;line-height: 1.2em;}#sk-container-id-2 div.sk-label-container {text-align: center;}#sk-container-id-2 div.sk-container {/* jupyter's `normalize.less` sets `[hidden] { display: none; }` but bootstrap.min.css set `[hidden] { display: none !important; }` so we also need the `!important` here to be able to override the default hidden behavior on the sphinx rendered scikit-learn.org. See: https://github.com/scikit-learn/scikit-learn/issues/21755 */display: inline-block !important;position: relative;}#sk-container-id-2 div.sk-text-repr-fallback {display: none;}</style><div id=\"sk-container-id-2\" class=\"sk-top-container\"><div class=\"sk-text-repr-fallback\"><pre>DecisionTreeClassifier(max_depth=9)</pre><b>In a Jupyter environment, please rerun this cell to show the HTML representation or trust the notebook. <br />On GitHub, the HTML representation is unable to render, please try loading this page with nbviewer.org.</b></div><div class=\"sk-container\" hidden><div class=\"sk-item\"><div class=\"sk-estimator sk-toggleable\"><input class=\"sk-toggleable__control sk-hidden--visually\" id=\"sk-estimator-id-2\" type=\"checkbox\" checked><label for=\"sk-estimator-id-2\" class=\"sk-toggleable__label sk-toggleable__label-arrow\">DecisionTreeClassifier</label><div class=\"sk-toggleable__content\"><pre>DecisionTreeClassifier(max_depth=9)</pre></div></div></div></div></div>"
            ]
          },
          "metadata": {},
          "execution_count": 31
        }
      ]
    },
    {
      "cell_type": "code",
      "source": [
        "def predict_real_or_fake_dt(image_input, decision_tree_model):\n",
        "  features = model.encode_image(image_input).float().cuda()\n",
        "  with torch.no_grad():\n",
        "      reduced_features = encoderfn(features).float().cuda()\n",
        "  features=reduced_features.cpu().numpy()\n",
        "  return decision_tree_model.predict(features)"
      ],
      "metadata": {
        "id": "dA-DoJbwW097"
      },
      "execution_count": 32,
      "outputs": []
    },
    {
      "cell_type": "code",
      "source": [
        "def evaluate_model_dt(test_data):\n",
        "    predictions = []\n",
        "    ground_truth = []\n",
        "\n",
        "    with torch.no_grad():\n",
        "        for image_path, label in test_data:\n",
        "            img=custom_augmentation(image_path)\n",
        "            image = preprocess(img).unsqueeze(0).cuda()\n",
        "            prediction = predict_real_or_fake_dt(image,dtc)\n",
        "            predictions.append(prediction)\n",
        "            ground_truth.append(label)\n",
        "\n",
        "    predictions = torch.tensor(predictions).cuda()\n",
        "    ground_truth = torch.tensor(ground_truth).cuda()\n",
        "\n",
        "    accuracy = accuracy_score(ground_truth.cpu(), predictions.cpu())\n",
        "    precision = precision_score(ground_truth.cpu(), predictions.cpu())\n",
        "    recall = recall_score(ground_truth.cpu(), predictions.cpu())\n",
        "    f1 = f1_score(ground_truth.cpu(), predictions.cpu())\n",
        "\n",
        "    print(f\"Accuracy: {accuracy:.4f}\")\n",
        "    print(f\"Precision: {precision:.4f}\")\n",
        "    print(f\"Recall: {recall:.4f}\")\n",
        "    print(f\"F1 Score: {f1:.4f}\")"
      ],
      "metadata": {
        "id": "qvyE1An8YCLM"
      },
      "execution_count": 33,
      "outputs": []
    },
    {
      "cell_type": "markdown",
      "source": [
        "Evaluation of Decision Tree"
      ],
      "metadata": {
        "id": "HH2v1wjWfynO"
      }
    },
    {
      "cell_type": "code",
      "source": [
        "evaluate_model_dt(test)"
      ],
      "metadata": {
        "colab": {
          "base_uri": "https://localhost:8080/"
        },
        "id": "ZuuDRE54YNUw",
        "outputId": "0960c56d-d8ba-4fef-b06e-acd43dcf2c1a"
      },
      "execution_count": 34,
      "outputs": [
        {
          "output_type": "stream",
          "name": "stdout",
          "text": [
            "Accuracy: 0.7250\n",
            "Precision: 0.6945\n",
            "Recall: 0.8033\n",
            "F1 Score: 0.7450\n"
          ]
        },
        {
          "output_type": "stream",
          "name": "stderr",
          "text": [
            "<ipython-input-33-c5fddf11d9b1>:13: UserWarning: Creating a tensor from a list of numpy.ndarrays is extremely slow. Please consider converting the list to a single numpy.ndarray with numpy.array() before converting to a tensor. (Triggered internally at ../torch/csrc/utils/tensor_new.cpp:261.)\n",
            "  predictions = torch.tensor(predictions).cuda()\n"
          ]
        }
      ]
    },
    {
      "cell_type": "markdown",
      "source": [
        "**Support Vector Classification**"
      ],
      "metadata": {
        "id": "_xbiQ1OtGUEj"
      }
    },
    {
      "cell_type": "code",
      "source": [
        "from sklearn import svm\n",
        "model_svm = svm.SVC(kernel='rbf')"
      ],
      "metadata": {
        "id": "c3hXYYYBYg1G"
      },
      "execution_count": 35,
      "outputs": []
    },
    {
      "cell_type": "code",
      "source": [
        "model_svm.fit(reduced_features_np,labels)"
      ],
      "metadata": {
        "colab": {
          "base_uri": "https://localhost:8080/",
          "height": 129
        },
        "id": "ks3kycpyY5Ps",
        "outputId": "ac16f112-d049-43b5-fbc2-205fcdd3cfa7"
      },
      "execution_count": 36,
      "outputs": [
        {
          "output_type": "stream",
          "name": "stderr",
          "text": [
            "/usr/local/lib/python3.10/dist-packages/sklearn/utils/validation.py:1143: DataConversionWarning: A column-vector y was passed when a 1d array was expected. Please change the shape of y to (n_samples, ), for example using ravel().\n",
            "  y = column_or_1d(y, warn=True)\n"
          ]
        },
        {
          "output_type": "execute_result",
          "data": {
            "text/plain": [
              "SVC()"
            ],
            "text/html": [
              "<style>#sk-container-id-3 {color: black;background-color: white;}#sk-container-id-3 pre{padding: 0;}#sk-container-id-3 div.sk-toggleable {background-color: white;}#sk-container-id-3 label.sk-toggleable__label {cursor: pointer;display: block;width: 100%;margin-bottom: 0;padding: 0.3em;box-sizing: border-box;text-align: center;}#sk-container-id-3 label.sk-toggleable__label-arrow:before {content: \"▸\";float: left;margin-right: 0.25em;color: #696969;}#sk-container-id-3 label.sk-toggleable__label-arrow:hover:before {color: black;}#sk-container-id-3 div.sk-estimator:hover label.sk-toggleable__label-arrow:before {color: black;}#sk-container-id-3 div.sk-toggleable__content {max-height: 0;max-width: 0;overflow: hidden;text-align: left;background-color: #f0f8ff;}#sk-container-id-3 div.sk-toggleable__content pre {margin: 0.2em;color: black;border-radius: 0.25em;background-color: #f0f8ff;}#sk-container-id-3 input.sk-toggleable__control:checked~div.sk-toggleable__content {max-height: 200px;max-width: 100%;overflow: auto;}#sk-container-id-3 input.sk-toggleable__control:checked~label.sk-toggleable__label-arrow:before {content: \"▾\";}#sk-container-id-3 div.sk-estimator input.sk-toggleable__control:checked~label.sk-toggleable__label {background-color: #d4ebff;}#sk-container-id-3 div.sk-label input.sk-toggleable__control:checked~label.sk-toggleable__label {background-color: #d4ebff;}#sk-container-id-3 input.sk-hidden--visually {border: 0;clip: rect(1px 1px 1px 1px);clip: rect(1px, 1px, 1px, 1px);height: 1px;margin: -1px;overflow: hidden;padding: 0;position: absolute;width: 1px;}#sk-container-id-3 div.sk-estimator {font-family: monospace;background-color: #f0f8ff;border: 1px dotted black;border-radius: 0.25em;box-sizing: border-box;margin-bottom: 0.5em;}#sk-container-id-3 div.sk-estimator:hover {background-color: #d4ebff;}#sk-container-id-3 div.sk-parallel-item::after {content: \"\";width: 100%;border-bottom: 1px solid gray;flex-grow: 1;}#sk-container-id-3 div.sk-label:hover label.sk-toggleable__label {background-color: #d4ebff;}#sk-container-id-3 div.sk-serial::before {content: \"\";position: absolute;border-left: 1px solid gray;box-sizing: border-box;top: 0;bottom: 0;left: 50%;z-index: 0;}#sk-container-id-3 div.sk-serial {display: flex;flex-direction: column;align-items: center;background-color: white;padding-right: 0.2em;padding-left: 0.2em;position: relative;}#sk-container-id-3 div.sk-item {position: relative;z-index: 1;}#sk-container-id-3 div.sk-parallel {display: flex;align-items: stretch;justify-content: center;background-color: white;position: relative;}#sk-container-id-3 div.sk-item::before, #sk-container-id-3 div.sk-parallel-item::before {content: \"\";position: absolute;border-left: 1px solid gray;box-sizing: border-box;top: 0;bottom: 0;left: 50%;z-index: -1;}#sk-container-id-3 div.sk-parallel-item {display: flex;flex-direction: column;z-index: 1;position: relative;background-color: white;}#sk-container-id-3 div.sk-parallel-item:first-child::after {align-self: flex-end;width: 50%;}#sk-container-id-3 div.sk-parallel-item:last-child::after {align-self: flex-start;width: 50%;}#sk-container-id-3 div.sk-parallel-item:only-child::after {width: 0;}#sk-container-id-3 div.sk-dashed-wrapped {border: 1px dashed gray;margin: 0 0.4em 0.5em 0.4em;box-sizing: border-box;padding-bottom: 0.4em;background-color: white;}#sk-container-id-3 div.sk-label label {font-family: monospace;font-weight: bold;display: inline-block;line-height: 1.2em;}#sk-container-id-3 div.sk-label-container {text-align: center;}#sk-container-id-3 div.sk-container {/* jupyter's `normalize.less` sets `[hidden] { display: none; }` but bootstrap.min.css set `[hidden] { display: none !important; }` so we also need the `!important` here to be able to override the default hidden behavior on the sphinx rendered scikit-learn.org. See: https://github.com/scikit-learn/scikit-learn/issues/21755 */display: inline-block !important;position: relative;}#sk-container-id-3 div.sk-text-repr-fallback {display: none;}</style><div id=\"sk-container-id-3\" class=\"sk-top-container\"><div class=\"sk-text-repr-fallback\"><pre>SVC()</pre><b>In a Jupyter environment, please rerun this cell to show the HTML representation or trust the notebook. <br />On GitHub, the HTML representation is unable to render, please try loading this page with nbviewer.org.</b></div><div class=\"sk-container\" hidden><div class=\"sk-item\"><div class=\"sk-estimator sk-toggleable\"><input class=\"sk-toggleable__control sk-hidden--visually\" id=\"sk-estimator-id-3\" type=\"checkbox\" checked><label for=\"sk-estimator-id-3\" class=\"sk-toggleable__label sk-toggleable__label-arrow\">SVC</label><div class=\"sk-toggleable__content\"><pre>SVC()</pre></div></div></div></div></div>"
            ]
          },
          "metadata": {},
          "execution_count": 36
        }
      ]
    },
    {
      "cell_type": "code",
      "source": [
        "def predict_real_or_fake_svm(image_input, svm):\n",
        "  features = model.encode_image(image_input).float().cuda()\n",
        "  with torch.no_grad():\n",
        "      reduced_features = encoderfn(features).float().cuda()\n",
        "  features=reduced_features.cpu().numpy()\n",
        "  return svm.predict(features)"
      ],
      "metadata": {
        "id": "m63ZhJbEY_u1"
      },
      "execution_count": 37,
      "outputs": []
    },
    {
      "cell_type": "code",
      "source": [
        "def evaluate_model_svm(test_data):\n",
        "    predictions = []\n",
        "    ground_truth = []\n",
        "\n",
        "    with torch.no_grad():\n",
        "        for image_path, label in test_data:\n",
        "            img=custom_augmentation(image_path)\n",
        "            image = preprocess(img).unsqueeze(0).cuda()\n",
        "            prediction = predict_real_or_fake_dt(image,model_svm)\n",
        "            predictions.append(prediction)\n",
        "            ground_truth.append(label)\n",
        "\n",
        "    predictions = torch.tensor(predictions).cuda()\n",
        "    ground_truth = torch.tensor(ground_truth).cuda()\n",
        "\n",
        "    accuracy = accuracy_score(ground_truth.cpu(), predictions.cpu())\n",
        "    precision = precision_score(ground_truth.cpu(), predictions.cpu())\n",
        "    recall = recall_score(ground_truth.cpu(), predictions.cpu())\n",
        "    f1 = f1_score(ground_truth.cpu(), predictions.cpu())\n",
        "\n",
        "    print(f\"Accuracy: {accuracy:.4f}\")\n",
        "    print(f\"Precision: {precision:.4f}\")\n",
        "    print(f\"Recall: {recall:.4f}\")\n",
        "    print(f\"F1 Score: {f1:.4f}\")"
      ],
      "metadata": {
        "id": "q_LFa5GIZXga"
      },
      "execution_count": 38,
      "outputs": []
    },
    {
      "cell_type": "markdown",
      "source": [
        "Evaluation of Support Vector"
      ],
      "metadata": {
        "id": "tj34VorWgJkt"
      }
    },
    {
      "cell_type": "code",
      "source": [
        "evaluate_model_svm(test)"
      ],
      "metadata": {
        "colab": {
          "base_uri": "https://localhost:8080/"
        },
        "id": "9cd8zrBcZcjL",
        "outputId": "b6ffd8a1-8304-4757-b52b-592cafe5adde"
      },
      "execution_count": 39,
      "outputs": [
        {
          "output_type": "stream",
          "name": "stdout",
          "text": [
            "Accuracy: 0.7150\n",
            "Precision: 0.6748\n",
            "Recall: 0.8300\n",
            "F1 Score: 0.7444\n"
          ]
        }
      ]
    }
  ]
}