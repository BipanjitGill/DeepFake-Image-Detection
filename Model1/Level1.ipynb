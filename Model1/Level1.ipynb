{
  "nbformat": 4,
  "nbformat_minor": 0,
  "metadata": {
    "colab": {
      "provenance": []
    },
    "kernelspec": {
      "name": "python3",
      "display_name": "Python 3"
    },
    "language_info": {
      "name": "python"
    }
  },
  "cells": [
    {
      "cell_type": "code",
      "source": [
        "from google.colab import drive\n",
        "drive.mount('/content/drive/')"
      ],
      "metadata": {
        "colab": {
          "base_uri": "https://localhost:8080/"
        },
        "id": "oYy_N6gbeJvK",
        "outputId": "ff93c43e-a17a-4bae-c189-c118b9a9463d"
      },
      "execution_count": 1,
      "outputs": [
        {
          "output_type": "stream",
          "name": "stdout",
          "text": [
            "Mounted at /content/drive/\n"
          ]
        }
      ]
    },
    {
      "cell_type": "markdown",
      "source": [
        "**Importing the Libraries**"
      ],
      "metadata": {
        "id": "omi3jYqCMBSm"
      }
    },
    {
      "cell_type": "code",
      "source": [
        "import os\n",
        "import random\n",
        "from sklearn.model_selection import train_test_split\n",
        "from PIL import Image\n",
        "import numpy as np\n",
        "import tensorflow as tf\n",
        "from tensorflow.keras import layers, models, optimizers\n",
        "from tensorflow.keras.applications import ResNet50\n",
        "from sklearn.preprocessing import OneHotEncoder\n"
      ],
      "metadata": {
        "id": "PkYoxLqwMFKh"
      },
      "execution_count": 2,
      "outputs": []
    },
    {
      "cell_type": "markdown",
      "source": [
        "**Importing Dataset**"
      ],
      "metadata": {
        "id": "x4Kyaw5L1Cr7"
      }
    },
    {
      "cell_type": "code",
      "source": [
        "#fake1: Dalle\n",
        "fake1=\"/content/drive/MyDrive/Deep Fake/Dataset/DM/Dalle/1_fake\"\n",
        "#fake2: Biggan\n",
        "fake2=\"/content/drive/MyDrive/Deep Fake/Dataset/GAN/biggan\"\n",
        "#real: laion\n",
        "real=\"/content/drive/MyDrive/Deep Fake/Dataset/Real/0_real\"\n",
        "train_fake=os.listdir(fake1)\n",
        "test_fake=os.listdir(fake2)\n",
        "real_fake=os.listdir(real)"
      ],
      "metadata": {
        "id": "cf-XIz_mfCJL"
      },
      "execution_count": 36,
      "outputs": []
    },
    {
      "cell_type": "code",
      "source": [
        "print(len(train_fake))\n",
        "print(len(test_fake))\n",
        "print(len(real_fake))"
      ],
      "metadata": {
        "colab": {
          "base_uri": "https://localhost:8080/"
        },
        "id": "DvMJRGBMgeNF",
        "outputId": "6c6073ef-125a-45d5-ad53-05815f57f39a"
      },
      "execution_count": 4,
      "outputs": [
        {
          "output_type": "stream",
          "name": "stdout",
          "text": [
            "1000\n",
            "1200\n",
            "1000\n"
          ]
        }
      ]
    },
    {
      "cell_type": "markdown",
      "source": [
        "**Creating Training and Testing Dataset**"
      ],
      "metadata": {
        "id": "rurZClfF1Mam"
      }
    },
    {
      "cell_type": "code",
      "source": [
        "dataset=[]\n",
        "test_dataset=[]\n",
        "for i in range(800):\n",
        "   train_fake[i]=fake1+'/'+train_fake[i]\n",
        "   dataset.append([train_fake[i],1])\n",
        "\n",
        "for i in range(200):\n",
        "   test_fake[i]=fake2+'/'+test_fake[i]\n",
        "   test_dataset.append([test_fake[i],1])\n",
        "\n",
        "for i in range(800):\n",
        "   real_fake[i]=real+'/'+real_fake[i]\n",
        "   dataset.append([real_fake[i],0])\n",
        "\n",
        "for i in range(800,1000):\n",
        "   real_fake[i]=real+'/'+real_fake[i]\n",
        "   test_dataset.append([real_fake[i],0])"
      ],
      "metadata": {
        "id": "gN_JjA8jg1RI"
      },
      "execution_count": 37,
      "outputs": []
    },
    {
      "cell_type": "markdown",
      "source": [
        "Shuffling the dataset"
      ],
      "metadata": {
        "id": "aj4oyFu71Yc9"
      }
    },
    {
      "cell_type": "code",
      "source": [
        "random.shuffle(dataset)\n",
        "random.shuffle(test_dataset)"
      ],
      "metadata": {
        "id": "1TwQojhR3fQq"
      },
      "execution_count": 6,
      "outputs": []
    },
    {
      "cell_type": "code",
      "source": [
        "print(dataset[0])"
      ],
      "metadata": {
        "colab": {
          "base_uri": "https://localhost:8080/"
        },
        "id": "uFpWaSke7Ncx",
        "outputId": "b8487b11-ef5f-4487-adcd-57b7799457b3"
      },
      "execution_count": 7,
      "outputs": [
        {
          "output_type": "stream",
          "name": "stdout",
          "text": [
            "['/content/drive/MyDrive/Deep Fake/Dataset/DM/Dalle/1_fake/rdhrjwoyvx.png', 1]\n"
          ]
        }
      ]
    },
    {
      "cell_type": "code",
      "source": [
        "X_train=[]\n",
        "y_train=[]\n",
        "for x in dataset:\n",
        "    X_train.append(x[0])\n",
        "    y_train.append(x[1])"
      ],
      "metadata": {
        "id": "EzSO9fv14Cr5"
      },
      "execution_count": 8,
      "outputs": []
    },
    {
      "cell_type": "markdown",
      "source": [
        "**Split the Data into training and validation data**"
      ],
      "metadata": {
        "id": "35SoJhqU1rFD"
      }
    },
    {
      "cell_type": "code",
      "source": [
        "X_train, X_val, y_train, y_val = train_test_split(X_train, y_train, test_size=0.1, random_state=42)\n"
      ],
      "metadata": {
        "id": "tPWSBVtY4TaO"
      },
      "execution_count": 9,
      "outputs": []
    },
    {
      "cell_type": "markdown",
      "source": [
        "Resizing the image according to model's input"
      ],
      "metadata": {
        "id": "Q-AtmBtS2SzN"
      }
    },
    {
      "cell_type": "code",
      "source": [
        "def resize_image_3d(image_array, target_shape=(224, 224, 3)):\n",
        "    if len(image_array.shape) != 3 or image_array.shape[2] != target_shape[2]:\n",
        "        raise ValueError(f\"Input array must have shape (height, width, {target_shape[2]})\")\n",
        "\n",
        "    resized_image = np.array(Image.fromarray(image_array).resize((target_shape[1], target_shape[0])))\n",
        "\n",
        "    return resized_image\n"
      ],
      "metadata": {
        "id": "mDXjJ0C6-PZ8"
      },
      "execution_count": 10,
      "outputs": []
    },
    {
      "cell_type": "markdown",
      "source": [
        "Opening the image and preprocessing"
      ],
      "metadata": {
        "id": "oQx0xdpW22T8"
      }
    },
    {
      "cell_type": "code",
      "source": [
        "Im_train = []\n",
        "Y_train = []\n",
        "\n",
        "for i in range(len(X_train)):\n",
        "    img = Image.open(X_train[i])\n",
        "    im_array = np.array(img)\n",
        "    if len(im_array.shape) != 3:\n",
        "        continue\n",
        "    else:\n",
        "        im_array = resize_image_3d(im_array)\n",
        "        Im_train.append(im_array)\n",
        "        Y_train.append(y_train[i])\n",
        "\n",
        "Im_valid = []\n",
        "Y_val = []\n",
        "\n",
        "for i in range(len(X_val)):\n",
        "    img = Image.open(X_val[i])\n",
        "    im_array = np.array(img)\n",
        "    if len(im_array.shape) != 3:\n",
        "        continue\n",
        "    else:\n",
        "        im_array = resize_image_3d(im_array)\n",
        "        Im_valid.append(im_array)\n",
        "        Y_val.append(y_val[i])\n"
      ],
      "metadata": {
        "id": "YCheYpwr4VtC"
      },
      "execution_count": 11,
      "outputs": []
    },
    {
      "cell_type": "markdown",
      "source": [
        "Defining the parameters"
      ],
      "metadata": {
        "id": "mBzY2wlq3sk-"
      }
    },
    {
      "cell_type": "code",
      "source": [
        "num_classes = 2\n",
        "batch_size = 30\n",
        "epochs = 10\n",
        "learning_rate = 0.001"
      ],
      "metadata": {
        "id": "cOZDPW-GBy7N"
      },
      "execution_count": 12,
      "outputs": []
    },
    {
      "cell_type": "markdown",
      "source": [
        "\n",
        "\n",
        "Loading the model:**Resnet50**"
      ],
      "metadata": {
        "id": "ShWiasAo3zuk"
      }
    },
    {
      "cell_type": "code",
      "source": [
        "base_model = ResNet50(weights='imagenet', include_top=False, input_shape=(224, 224, 3))\n"
      ],
      "metadata": {
        "colab": {
          "base_uri": "https://localhost:8080/"
        },
        "id": "G2NF56Eva7U0",
        "outputId": "47f82604-9c8e-44df-d6da-91c8221f4391"
      },
      "execution_count": 13,
      "outputs": [
        {
          "output_type": "stream",
          "name": "stdout",
          "text": [
            "Downloading data from https://storage.googleapis.com/tensorflow/keras-applications/resnet/resnet50_weights_tf_dim_ordering_tf_kernels_notop.h5\n",
            "94765736/94765736 [==============================] - 0s 0us/step\n"
          ]
        }
      ]
    },
    {
      "cell_type": "markdown",
      "source": [
        "Freezing the layers of Resnet50 Model"
      ],
      "metadata": {
        "id": "RA6D1tQJ34oG"
      }
    },
    {
      "cell_type": "code",
      "source": [
        "for layer in base_model.layers:\n",
        "    layer.trainable = False"
      ],
      "metadata": {
        "id": "F-sWlOV1a8px"
      },
      "execution_count": 14,
      "outputs": []
    },
    {
      "cell_type": "markdown",
      "source": [
        "Adding the layers"
      ],
      "metadata": {
        "id": "Fd3o_zET4JIQ"
      }
    },
    {
      "cell_type": "code",
      "source": [
        "model = models.Sequential()\n",
        "model.add(base_model)\n",
        "model.add(layers.GlobalAveragePooling2D())\n",
        "model.add(layers.Dense(num_classes, activation='softmax'))"
      ],
      "metadata": {
        "id": "Ub5-kAFca_mp"
      },
      "execution_count": 15,
      "outputs": []
    },
    {
      "cell_type": "markdown",
      "source": [
        "Defining the hyperparameters"
      ],
      "metadata": {
        "id": "mlioQoqU4NoH"
      }
    },
    {
      "cell_type": "code",
      "source": [
        "sgd_optimizer = optimizers.SGD(learning_rate=learning_rate, momentum=0.9)\n",
        "model.compile(\n",
        "    optimizer=sgd_optimizer,\n",
        "    loss='categorical_crossentropy',\n",
        "    metrics=['accuracy']\n",
        ")"
      ],
      "metadata": {
        "id": "DYcLNSZTbCrh"
      },
      "execution_count": 16,
      "outputs": []
    },
    {
      "cell_type": "code",
      "source": [
        "Im_train = np.array(Im_train)\n",
        "Y_train = np.array(Y_train)\n",
        "Im_valid = np.array(Im_valid)\n",
        "Y_val = np.array(Y_val)"
      ],
      "metadata": {
        "id": "hqd-eBcmLw4D"
      },
      "execution_count": 17,
      "outputs": []
    },
    {
      "cell_type": "markdown",
      "source": [
        "Encoding the output into one hot encoding"
      ],
      "metadata": {
        "id": "jEupIGIA4brZ"
      }
    },
    {
      "cell_type": "code",
      "source": [
        "encoder = OneHotEncoder(sparse=False)\n",
        "Y_train_encoded = encoder.fit_transform(Y_train.reshape(-1, 1))\n",
        "Y_val_encoded = encoder.transform(Y_val.reshape(-1, 1))"
      ],
      "metadata": {
        "colab": {
          "base_uri": "https://localhost:8080/"
        },
        "id": "oJm5XNuTUIhg",
        "outputId": "ccf26bca-4a1f-4f96-badb-ff83cdfb1be7"
      },
      "execution_count": 18,
      "outputs": [
        {
          "output_type": "stream",
          "name": "stderr",
          "text": [
            "/usr/local/lib/python3.10/dist-packages/sklearn/preprocessing/_encoders.py:868: FutureWarning: `sparse` was renamed to `sparse_output` in version 1.2 and will be removed in 1.4. `sparse_output` is ignored unless you leave `sparse` to its default value.\n",
            "  warnings.warn(\n"
          ]
        }
      ]
    },
    {
      "cell_type": "markdown",
      "source": [
        "**Training the Model**"
      ],
      "metadata": {
        "id": "znkMc2w74ueY"
      }
    },
    {
      "cell_type": "code",
      "source": [
        "history = model.fit(\n",
        "    Im_train, Y_train_encoded,\n",
        "    epochs=epochs,\n",
        "    validation_data=(Im_valid, Y_val_encoded)\n",
        ")"
      ],
      "metadata": {
        "colab": {
          "base_uri": "https://localhost:8080/"
        },
        "id": "oGM1fgg1bMI9",
        "outputId": "c7388669-988e-413f-fb22-7884b355c122"
      },
      "execution_count": 19,
      "outputs": [
        {
          "output_type": "stream",
          "name": "stdout",
          "text": [
            "Epoch 1/10\n",
            "45/45 [==============================] - 305s 7s/step - loss: 0.5530 - accuracy: 0.7495 - val_loss: 0.3988 - val_accuracy: 0.8687\n",
            "Epoch 2/10\n",
            "45/45 [==============================] - 312s 7s/step - loss: 0.2980 - accuracy: 0.8730 - val_loss: 0.3614 - val_accuracy: 0.8750\n",
            "Epoch 3/10\n",
            "45/45 [==============================] - 305s 7s/step - loss: 0.2421 - accuracy: 0.9016 - val_loss: 0.3328 - val_accuracy: 0.8687\n",
            "Epoch 4/10\n",
            "45/45 [==============================] - 298s 7s/step - loss: 0.2209 - accuracy: 0.9135 - val_loss: 0.3448 - val_accuracy: 0.8813\n",
            "Epoch 5/10\n",
            "45/45 [==============================] - 316s 7s/step - loss: 0.2154 - accuracy: 0.9128 - val_loss: 0.3317 - val_accuracy: 0.8750\n",
            "Epoch 6/10\n",
            "45/45 [==============================] - 314s 7s/step - loss: 0.1746 - accuracy: 0.9309 - val_loss: 0.3217 - val_accuracy: 0.8813\n",
            "Epoch 7/10\n",
            "45/45 [==============================] - 317s 7s/step - loss: 0.1608 - accuracy: 0.9477 - val_loss: 0.3081 - val_accuracy: 0.8875\n",
            "Epoch 8/10\n",
            "45/45 [==============================] - 298s 7s/step - loss: 0.1521 - accuracy: 0.9484 - val_loss: 0.3145 - val_accuracy: 0.9000\n",
            "Epoch 9/10\n",
            "45/45 [==============================] - 308s 7s/step - loss: 0.1437 - accuracy: 0.9518 - val_loss: 0.3362 - val_accuracy: 0.8625\n",
            "Epoch 10/10\n",
            "45/45 [==============================] - 320s 7s/step - loss: 0.1401 - accuracy: 0.9491 - val_loss: 0.3132 - val_accuracy: 0.8813\n"
          ]
        }
      ]
    },
    {
      "cell_type": "code",
      "source": [
        "import matplotlib.pyplot as plt\n",
        "acc = history.history['accuracy']\n",
        "val_acc = history.history['val_accuracy']\n",
        "\n",
        "loss = history.history['loss']\n",
        "val_loss = history.history['val_loss']\n",
        "\n",
        "plt.figure(figsize=(8, 8))\n",
        "plt.subplot(2, 1, 1)\n",
        "plt.plot(acc, label='Training Accuracy')\n",
        "plt.plot(val_acc, label='Validation Accuracy')\n",
        "plt.legend(loc='lower right')\n",
        "plt.ylabel('Accuracy')\n",
        "plt.ylim([min(plt.ylim()),1])\n",
        "plt.title('Training and Validation Accuracy')\n",
        "\n",
        "plt.subplot(2, 1, 2)\n",
        "plt.plot(loss, label='Training Loss')\n",
        "plt.plot(val_loss, label='Validation Loss')\n",
        "plt.legend(loc='upper right')\n",
        "plt.ylabel('Cross Entropy')\n",
        "plt.ylim([0,1.0])\n",
        "plt.title('Training and Validation Loss')\n",
        "plt.xlabel('epoch')\n",
        "plt.show()"
      ],
      "metadata": {
        "id": "uI4IBMgA8jeY",
        "colab": {
          "base_uri": "https://localhost:8080/",
          "height": 718
        },
        "outputId": "9c7de1f7-37b4-4634-fa5e-e05a535c8930"
      },
      "execution_count": 20,
      "outputs": [
        {
          "output_type": "display_data",
          "data": {
            "text/plain": [
              "<Figure size 800x800 with 2 Axes>"
            ],
            "image/png": "[encoded data removed]"
          },
          "metadata": {}
        }
      ]
    },
    {
      "cell_type": "markdown",
      "source": [
        "**Fine Tuning the Model**"
      ],
      "metadata": {
        "id": "L6--blJx47-s"
      }
    },
    {
      "cell_type": "markdown",
      "source": [
        "Unfreezing the last 10 layers for fine tuning"
      ],
      "metadata": {
        "id": "DjqQm7yV5Awr"
      }
    },
    {
      "cell_type": "code",
      "source": [
        "for layer in base_model.layers[40:]:\n",
        "    layer.trainable = True"
      ],
      "metadata": {
        "id": "CSFTVlAKRryj"
      },
      "execution_count": 21,
      "outputs": []
    },
    {
      "cell_type": "markdown",
      "source": [
        "Defining parameters for Fine Tuning"
      ],
      "metadata": {
        "id": "35drJ1ao9S2l"
      }
    },
    {
      "cell_type": "code",
      "source": [
        "sgd_optimizer = optimizers.SGD(learning_rate=learning_rate/10, momentum=0.9)\n",
        "model.compile(\n",
        "    optimizer=sgd_optimizer,\n",
        "    loss='categorical_crossentropy',\n",
        "    metrics=['accuracy']\n",
        ")"
      ],
      "metadata": {
        "id": "yQH3lweZ8J4O"
      },
      "execution_count": 22,
      "outputs": []
    },
    {
      "cell_type": "markdown",
      "source": [
        "Again training the model"
      ],
      "metadata": {
        "id": "MdVzsL2O5Yc4"
      }
    },
    {
      "cell_type": "code",
      "source": [
        "history_fine = model.fit(\n",
        "    Im_train, Y_train_encoded,\n",
        "    epochs=15,\n",
        "    initial_epoch=history.epoch[-1],\n",
        "    validation_data=(Im_valid, Y_val_encoded)\n",
        ")"
      ],
      "metadata": {
        "colab": {
          "base_uri": "https://localhost:8080/"
        },
        "id": "famPVHTISF8X",
        "outputId": "caf8da13-fef9-43a6-abf7-a41f9e0ad66e"
      },
      "execution_count": 23,
      "outputs": [
        {
          "output_type": "stream",
          "name": "stdout",
          "text": [
            "Epoch 10/15\n",
            "45/45 [==============================] - 871s 19s/step - loss: 0.4570 - accuracy: 0.8109 - val_loss: 0.6710 - val_accuracy: 0.7063\n",
            "Epoch 11/15\n",
            "45/45 [==============================] - 836s 19s/step - loss: 0.1945 - accuracy: 0.9358 - val_loss: 0.3921 - val_accuracy: 0.8250\n",
            "Epoch 12/15\n",
            "45/45 [==============================] - 821s 18s/step - loss: 0.1620 - accuracy: 0.9546 - val_loss: 0.3021 - val_accuracy: 0.8750\n",
            "Epoch 13/15\n",
            "45/45 [==============================] - 834s 19s/step - loss: 0.1414 - accuracy: 0.9595 - val_loss: 0.2660 - val_accuracy: 0.9000\n",
            "Epoch 14/15\n",
            "45/45 [==============================] - 837s 19s/step - loss: 0.1178 - accuracy: 0.9700 - val_loss: 0.2383 - val_accuracy: 0.9187\n",
            "Epoch 15/15\n",
            "45/45 [==============================] - 819s 18s/step - loss: 0.1044 - accuracy: 0.9749 - val_loss: 0.2187 - val_accuracy: 0.9250\n"
          ]
        }
      ]
    },
    {
      "cell_type": "code",
      "source": [
        "acc += history_fine.history['accuracy']\n",
        "val_acc += history_fine.history['val_accuracy']\n",
        "\n",
        "loss += history_fine.history['loss']\n",
        "val_loss += history_fine.history['val_loss']"
      ],
      "metadata": {
        "id": "WHGEsmwoMqhn"
      },
      "execution_count": 24,
      "outputs": []
    },
    {
      "cell_type": "markdown",
      "source": [
        "**Saving the Model**"
      ],
      "metadata": {
        "id": "U2AIDfFgMn_F"
      }
    },
    {
      "cell_type": "code",
      "source": [
        "model.save('/content/drive/MyDrive/Deep Fake/fine_tuned_level1.h5')"
      ],
      "metadata": {
        "id": "Lf3XSsd2bTP3",
        "colab": {
          "base_uri": "https://localhost:8080/"
        },
        "outputId": "9b3603f4-963f-4917-b50c-14e6892af56d"
      },
      "execution_count": 26,
      "outputs": [
        {
          "output_type": "stream",
          "name": "stderr",
          "text": [
            "/usr/local/lib/python3.10/dist-packages/keras/src/engine/training.py:3103: UserWarning: You are saving your model as an HDF5 file via `model.save()`. This file format is considered legacy. We recommend using instead the native Keras format, e.g. `model.save('my_model.keras')`.\n",
            "  saving_api.save_model(\n"
          ]
        }
      ]
    },
    {
      "cell_type": "markdown",
      "source": [
        "Creating Test Dataset"
      ],
      "metadata": {
        "id": "kv8pvFoH9d8Z"
      }
    },
    {
      "cell_type": "code",
      "source": [
        "X_test=[]\n",
        "y_test=[]\n",
        "for x in test_dataset:\n",
        "    X_test.append(x[0])\n",
        "    y_test.append(x[1])"
      ],
      "metadata": {
        "id": "SXS54iVDSiW0"
      },
      "execution_count": 38,
      "outputs": []
    },
    {
      "cell_type": "code",
      "source": [
        "Im_test = []\n",
        "Y_test = []\n",
        "\n",
        "for i in range(len(X_test)):\n",
        "    img = Image.open(X_test[i])\n",
        "    im_array = np.array(img)\n",
        "    if len(im_array.shape) != 3:\n",
        "        continue\n",
        "    else:\n",
        "        im_array = resize_image_3d(im_array)\n",
        "        Im_test.append(im_array)\n",
        "        Y_test.append(y_test[i])"
      ],
      "metadata": {
        "id": "N1gRZ4FBaAmD"
      },
      "execution_count": 39,
      "outputs": []
    },
    {
      "cell_type": "code",
      "source": [
        "Im_test = np.array(Im_test)\n",
        "Y_test = np.array(Y_test)"
      ],
      "metadata": {
        "id": "W7su2DbKaW-D"
      },
      "execution_count": 40,
      "outputs": []
    },
    {
      "cell_type": "markdown",
      "source": [
        "Encoding the output"
      ],
      "metadata": {
        "id": "Wbf2Mv2U9ie2"
      }
    },
    {
      "cell_type": "code",
      "source": [
        "Y_test_encoded = encoder.transform(Y_test.reshape(-1, 1))"
      ],
      "metadata": {
        "id": "RuHUTsGYaqTW"
      },
      "execution_count": 41,
      "outputs": []
    },
    {
      "cell_type": "markdown",
      "source": [
        "Evaluating the MOdel"
      ],
      "metadata": {
        "id": "oV35vtiP9lhn"
      }
    },
    {
      "cell_type": "code",
      "source": [
        "evaluation = model.evaluate(Im_test, Y_test_encoded)"
      ],
      "metadata": {
        "id": "SKFwQUAWauGV",
        "colab": {
          "base_uri": "https://localhost:8080/"
        },
        "outputId": "3b58a0c1-58dc-4c50-8e14-2962838f8eb2"
      },
      "execution_count": 42,
      "outputs": [
        {
          "output_type": "stream",
          "name": "stdout",
          "text": [
            "13/13 [==============================] - 75s 6s/step - loss: 0.4313 - accuracy: 0.7696\n"
          ]
        }
      ]
    },
    {
      "cell_type": "code",
      "source": [
        "print(evaluation)"
      ],
      "metadata": {
        "id": "cF7xtmKlbKy2",
        "colab": {
          "base_uri": "https://localhost:8080/"
        },
        "outputId": "0e776d16-11b7-4c21-9600-9690a4798d77"
      },
      "execution_count": 43,
      "outputs": [
        {
          "output_type": "stream",
          "name": "stdout",
          "text": [
            "[0.4313402771949768, 0.7696202397346497]\n"
          ]
        }
      ]
    },
    {
      "cell_type": "code",
      "source": [
        "accuracy = evaluation[1]\n",
        "\n",
        "print(f'Test Accuracy: {accuracy}')"
      ],
      "metadata": {
        "id": "9byyyRMDbNYq",
        "colab": {
          "base_uri": "https://localhost:8080/"
        },
        "outputId": "7548b4ef-0854-4435-cd05-6d10d19b715e"
      },
      "execution_count": 44,
      "outputs": [
        {
          "output_type": "stream",
          "name": "stdout",
          "text": [
            "Test Accuracy: 0.7696202397346497\n"
          ]
        }
      ]
    }
  ]
}