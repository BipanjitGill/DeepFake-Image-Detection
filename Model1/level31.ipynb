{
  "nbformat": 4,
  "nbformat_minor": 0,
  "metadata": {
    "colab": {
      "provenance": []
    },
    "kernelspec": {
      "name": "python3",
      "display_name": "Python 3"
    },
    "language_info": {
      "name": "python"
    }
  },
  "cells": [
    {
      "cell_type": "code",
      "execution_count": null,
      "metadata": {
        "colab": {
          "base_uri": "https://localhost:8080/"
        },
        "id": "dMDZSRy_zSZE",
        "outputId": "7a012e46-a3c8-47d5-c096-1d23be6050dc"
      },
      "outputs": [
        {
          "output_type": "stream",
          "name": "stdout",
          "text": [
            "Mounted at /content/drive/\n"
          ]
        }
      ],
      "source": [
        "from google.colab import drive\n",
        "drive.mount('/content/drive/')"
      ]
    },
    {
      "cell_type": "markdown",
      "source": [
        "**Importing the Libraries**"
      ],
      "metadata": {
        "id": "zco7E2M6FPvB"
      }
    },
    {
      "cell_type": "code",
      "source": [
        "import os\n",
        "import random\n",
        "from sklearn.model_selection import train_test_split\n",
        "from PIL import Image\n",
        "import numpy as np\n",
        "import tensorflow as tf\n",
        "from tensorflow.keras import layers, models, optimizers\n",
        "from tensorflow.keras.applications import ResNet50\n",
        "from sklearn.preprocessing import OneHotEncoder\n",
        "import matplotlib.pyplot as plt"
      ],
      "metadata": {
        "id": "8XOeYIElE0ZI"
      },
      "execution_count": null,
      "outputs": []
    },
    {
      "cell_type": "markdown",
      "source": [
        "**Loading the Files**"
      ],
      "metadata": {
        "id": "7HJh3FhJFXiV"
      }
    },
    {
      "cell_type": "code",
      "source": [
        "Dalle=\"/content/drive/MyDrive/Deep Fake/Dataset/DM/Dalle/1_fake\"\n",
        "Glide=\"/content/drive/MyDrive/Deep Fake/Dataset/DM/glide_100_10/1_fake\"\n",
        "LDM=\"/content/drive/MyDrive/Deep Fake/Dataset/DM/ldm_100/1_fake\"\n",
        "Dalle_lis=os.listdir(Dalle)\n",
        "Glide_lis=os.listdir(Glide)\n",
        "LDM_lis=os.listdir(LDM)\n"
      ],
      "metadata": {
        "id": "cf-XIz_mfCJL"
      },
      "execution_count": null,
      "outputs": []
    },
    {
      "cell_type": "code",
      "source": [
        "print(len(Dalle_lis))\n",
        "print(len(Glide_lis))\n",
        "print(len(LDM_lis))"
      ],
      "metadata": {
        "colab": {
          "base_uri": "https://localhost:8080/"
        },
        "id": "DvMJRGBMgeNF",
        "outputId": "174bae55-052a-4845-d355-89c1bb2c5cfa"
      },
      "execution_count": null,
      "outputs": [
        {
          "output_type": "stream",
          "name": "stdout",
          "text": [
            "1000\n",
            "1000\n",
            "1001\n"
          ]
        }
      ]
    },
    {
      "cell_type": "markdown",
      "source": [
        "**Creating the Dataset**"
      ],
      "metadata": {
        "id": "5V0JjKanFjNX"
      }
    },
    {
      "cell_type": "code",
      "source": [
        "Dalle_dataset=[]\n",
        "Glide_dataset=[]\n",
        "LDM_dataset=[]\n",
        "\n",
        "for i in range(len(Dalle_lis)):\n",
        "   Dalle_lis[i]=Dalle+'/'+Dalle_lis[i]\n",
        "   Dalle_dataset.append([Dalle_lis[i],1])\n",
        "\n",
        "for i in range(len(Glide_lis)):\n",
        "   Glide_lis[i]=Glide+'/'+Glide_lis[i]\n",
        "   Glide_dataset.append([Glide_lis[i],2])\n",
        "\n",
        "for i in range(len(LDM_lis)):\n",
        "   LDM_lis[i]=LDM+'/'+LDM_lis[i]\n",
        "   LDM_dataset.append([LDM_lis[i],3])"
      ],
      "metadata": {
        "id": "gN_JjA8jg1RI"
      },
      "execution_count": null,
      "outputs": []
    },
    {
      "cell_type": "code",
      "source": [
        "print(len(Dalle_dataset))\n",
        "print(len(Glide_dataset))\n",
        "print(len(LDM_dataset))"
      ],
      "metadata": {
        "colab": {
          "base_uri": "https://localhost:8080/"
        },
        "id": "CZY2gopT6LvO",
        "outputId": "147a9a73-8958-4c4a-e2c5-3fc3b6c59b87"
      },
      "execution_count": null,
      "outputs": [
        {
          "output_type": "stream",
          "name": "stdout",
          "text": [
            "1000\n",
            "1000\n",
            "1001\n"
          ]
        }
      ]
    },
    {
      "cell_type": "markdown",
      "source": [
        "**Shuffling the Dataset**"
      ],
      "metadata": {
        "id": "ND9hSTMGFtHr"
      }
    },
    {
      "cell_type": "code",
      "source": [
        "random.shuffle(Glide_dataset)\n",
        "random.shuffle(Dalle_dataset)\n",
        "random.shuffle(LDM_dataset)"
      ],
      "metadata": {
        "id": "1TwQojhR3fQq"
      },
      "execution_count": null,
      "outputs": []
    },
    {
      "cell_type": "code",
      "source": [
        "dataset = Glide_dataset[:1000] + LDM_dataset[:1000] + Dalle_dataset[:1000]"
      ],
      "metadata": {
        "id": "vM0OzZ1X65oX"
      },
      "execution_count": null,
      "outputs": []
    },
    {
      "cell_type": "code",
      "source": [
        "random.shuffle(dataset)"
      ],
      "metadata": {
        "id": "lL4M69OR6_eA"
      },
      "execution_count": null,
      "outputs": []
    },
    {
      "cell_type": "code",
      "source": [
        "print(dataset[2])"
      ],
      "metadata": {
        "colab": {
          "base_uri": "https://localhost:8080/"
        },
        "id": "QA-62LoW7TNI",
        "outputId": "627d1f2e-e2e5-4d4d-ff5c-aa29b032846a"
      },
      "execution_count": null,
      "outputs": [
        {
          "output_type": "stream",
          "name": "stdout",
          "text": [
            "['/content/drive/MyDrive/Deep Fake/Dataset/DM/Dalle/1_fake/kyrjicorfj.png', 1]\n"
          ]
        }
      ]
    },
    {
      "cell_type": "code",
      "source": [
        "X_train=[]\n",
        "y_train=[]\n",
        "for x in dataset:\n",
        "    X_train.append(x[0])\n",
        "    y_train.append(x[1])"
      ],
      "metadata": {
        "id": "EzSO9fv14Cr5"
      },
      "execution_count": null,
      "outputs": []
    },
    {
      "cell_type": "markdown",
      "source": [
        "**Creating Training, Validation and Testing dataset**"
      ],
      "metadata": {
        "id": "EhljryboGBZ0"
      }
    },
    {
      "cell_type": "code",
      "source": [
        "X_train, X_val, y_train, y_val = train_test_split(X_train, y_train, test_size=0.2, random_state=42)\n",
        "X_val, X_test, y_val, y_test = train_test_split(X_val, y_val, test_size=0.5, random_state=42)"
      ],
      "metadata": {
        "id": "tPWSBVtY4TaO"
      },
      "execution_count": null,
      "outputs": []
    },
    {
      "cell_type": "markdown",
      "source": [
        "**Preprocessing the data**"
      ],
      "metadata": {
        "id": "02xKC7xxGak_"
      }
    },
    {
      "cell_type": "code",
      "source": [
        "def resize_image_3d(image_array, target_shape=(224, 224, 3)):\n",
        "    if len(image_array.shape) != 3 or image_array.shape[2] != target_shape[2]:\n",
        "        raise ValueError(f\"Input array must have shape (height, width, {target_shape[2]})\")\n",
        "\n",
        "    resized_image = np.array(Image.fromarray(image_array).resize((target_shape[1], target_shape[0])))\n",
        "\n",
        "    return resized_image\n"
      ],
      "metadata": {
        "id": "mDXjJ0C6-PZ8"
      },
      "execution_count": null,
      "outputs": []
    },
    {
      "cell_type": "code",
      "source": [
        "Im_train = []\n",
        "Y_train = []\n",
        "\n",
        "for i in range(len(X_train)):\n",
        "    img = Image.open(X_train[i])\n",
        "    im_array = np.array(img)\n",
        "    if len(im_array.shape) != 3:\n",
        "        continue\n",
        "    else:\n",
        "        im_array = resize_image_3d(im_array)\n",
        "        Im_train.append(im_array)\n",
        "        Y_train.append(y_train[i])\n",
        "\n",
        "Im_valid = []\n",
        "Y_val = []\n",
        "\n",
        "for i in range(len(X_val)):\n",
        "    img = Image.open(X_val[i])\n",
        "    im_array = np.array(img)\n",
        "    if len(im_array.shape) != 3:\n",
        "        continue\n",
        "    else:\n",
        "        im_array = resize_image_3d(im_array)\n",
        "        Im_valid.append(im_array)\n",
        "        Y_val.append(y_val[i])\n"
      ],
      "metadata": {
        "id": "YCheYpwr4VtC"
      },
      "execution_count": null,
      "outputs": []
    },
    {
      "cell_type": "markdown",
      "source": [
        "Defing the parameters and hypermeters"
      ],
      "metadata": {
        "id": "mt4PUIjDGfi9"
      }
    },
    {
      "cell_type": "code",
      "source": [
        "num_classes = 3\n",
        "batch_size = 30\n",
        "epochs = 10\n",
        "learning_rate = 0.0005"
      ],
      "metadata": {
        "id": "cOZDPW-GBy7N"
      },
      "execution_count": null,
      "outputs": []
    },
    {
      "cell_type": "markdown",
      "source": [
        "Loading the base model**(Resnet50)**"
      ],
      "metadata": {
        "id": "i57rBIYxGv0C"
      }
    },
    {
      "cell_type": "code",
      "source": [
        "base_model = ResNet50(weights='imagenet', include_top=False, input_shape=(224, 224, 3))\n"
      ],
      "metadata": {
        "id": "G2NF56Eva7U0",
        "colab": {
          "base_uri": "https://localhost:8080/"
        },
        "outputId": "e6ea4500-efe4-4d2f-969d-ca03aab5356f"
      },
      "execution_count": null,
      "outputs": [
        {
          "output_type": "stream",
          "name": "stdout",
          "text": [
            "Downloading data from https://storage.googleapis.com/tensorflow/keras-applications/resnet/resnet50_weights_tf_dim_ordering_tf_kernels_notop.h5\n",
            "94765736/94765736 [==============================] - 3s 0us/step\n"
          ]
        }
      ]
    },
    {
      "cell_type": "markdown",
      "source": [
        "Freezing the layers of base model"
      ],
      "metadata": {
        "id": "ghn8UPf8G3V3"
      }
    },
    {
      "cell_type": "code",
      "source": [
        "for layer in base_model.layers:\n",
        "    layer.trainable = False"
      ],
      "metadata": {
        "id": "F-sWlOV1a8px"
      },
      "execution_count": null,
      "outputs": []
    },
    {
      "cell_type": "markdown",
      "source": [
        "Adding the layes"
      ],
      "metadata": {
        "id": "MIYxtXxLG93S"
      }
    },
    {
      "cell_type": "code",
      "source": [
        "model = models.Sequential()\n",
        "model.add(base_model)\n",
        "model.add(layers.GlobalAveragePooling2D())\n",
        "model.add(layers.Dense(num_classes, activation='softmax'))"
      ],
      "metadata": {
        "id": "Ub5-kAFca_mp"
      },
      "execution_count": null,
      "outputs": []
    },
    {
      "cell_type": "markdown",
      "source": [
        "Compiling the model"
      ],
      "metadata": {
        "id": "6OwMJdSzHAee"
      }
    },
    {
      "cell_type": "code",
      "source": [
        "sgd_optimizer = optimizers.SGD(learning_rate=learning_rate, momentum=0.9)\n",
        "\n",
        "model.compile(\n",
        "    optimizer=sgd_optimizer,\n",
        "    loss='categorical_crossentropy',\n",
        "    metrics=['accuracy']\n",
        ")"
      ],
      "metadata": {
        "id": "DYcLNSZTbCrh"
      },
      "execution_count": null,
      "outputs": []
    },
    {
      "cell_type": "code",
      "source": [
        "Im_train = np.array(Im_train)\n",
        "Y_train = np.array(Y_train)\n",
        "Im_valid = np.array(Im_valid)\n",
        "Y_val = np.array(Y_val)"
      ],
      "metadata": {
        "id": "hqd-eBcmLw4D"
      },
      "execution_count": null,
      "outputs": []
    },
    {
      "cell_type": "markdown",
      "source": [
        "\n",
        "\n",
        "**Encoding the outputs using One Hot Encoding**"
      ],
      "metadata": {
        "id": "Eoy1BFwXHEKD"
      }
    },
    {
      "cell_type": "code",
      "source": [
        "encoder = OneHotEncoder(sparse=False)\n",
        "Y_train_encoded = encoder.fit_transform(Y_train.reshape(-1, 1))\n",
        "Y_val_encoded = encoder.transform(Y_val.reshape(-1, 1))"
      ],
      "metadata": {
        "colab": {
          "base_uri": "https://localhost:8080/"
        },
        "id": "oJm5XNuTUIhg",
        "outputId": "f21c80c6-af97-4d30-aab1-830b30ab0611"
      },
      "execution_count": null,
      "outputs": [
        {
          "output_type": "stream",
          "name": "stderr",
          "text": [
            "/usr/local/lib/python3.10/dist-packages/sklearn/preprocessing/_encoders.py:868: FutureWarning: `sparse` was renamed to `sparse_output` in version 1.2 and will be removed in 1.4. `sparse_output` is ignored unless you leave `sparse` to its default value.\n",
            "  warnings.warn(\n"
          ]
        }
      ]
    },
    {
      "cell_type": "code",
      "source": [
        "print(\"Encoder categories:\", encoder.categories_)\n",
        "label=np.array([1,2,3])\n",
        "print(encoder.transform(label.reshape(-1, 1)))"
      ],
      "metadata": {
        "colab": {
          "base_uri": "https://localhost:8080/"
        },
        "id": "EszGU13J-2qJ",
        "outputId": "7cdaed1a-fc8d-4c59-e777-f4e9fe7a0ed0"
      },
      "execution_count": null,
      "outputs": [
        {
          "output_type": "stream",
          "name": "stdout",
          "text": [
            "Encoder categories: [array([1, 2, 3])]\n",
            "[[1. 0. 0.]\n",
            " [0. 1. 0.]\n",
            " [0. 0. 1.]]\n"
          ]
        }
      ]
    },
    {
      "cell_type": "markdown",
      "source": [
        "**Training the model**"
      ],
      "metadata": {
        "id": "92MjyCrkHLGp"
      }
    },
    {
      "cell_type": "code",
      "source": [
        "history = model.fit(\n",
        "    Im_train, Y_train_encoded,\n",
        "    epochs=epochs,\n",
        "    validation_data=(Im_valid, Y_val_encoded)\n",
        ")"
      ],
      "metadata": {
        "colab": {
          "base_uri": "https://localhost:8080/"
        },
        "id": "oGM1fgg1bMI9",
        "outputId": "01e2f213-861a-4922-b61e-d3bd11db2ddc"
      },
      "execution_count": null,
      "outputs": [
        {
          "output_type": "stream",
          "name": "stdout",
          "text": [
            "Epoch 1/10\n",
            "75/75 [==============================] - 600s 8s/step - loss: 0.9953 - accuracy: 0.5354 - val_loss: 0.6795 - val_accuracy: 0.7067\n",
            "Epoch 2/10\n",
            "75/75 [==============================] - 600s 8s/step - loss: 0.5640 - accuracy: 0.7667 - val_loss: 0.5445 - val_accuracy: 0.7900\n",
            "Epoch 3/10\n",
            "75/75 [==============================] - 613s 8s/step - loss: 0.4583 - accuracy: 0.8208 - val_loss: 0.4941 - val_accuracy: 0.8167\n",
            "Epoch 4/10\n",
            "75/75 [==============================] - 593s 8s/step - loss: 0.4081 - accuracy: 0.8462 - val_loss: 0.4749 - val_accuracy: 0.8267\n",
            "Epoch 5/10\n",
            "75/75 [==============================] - 601s 8s/step - loss: 0.3669 - accuracy: 0.8629 - val_loss: 0.4421 - val_accuracy: 0.8433\n",
            "Epoch 6/10\n",
            "75/75 [==============================] - 600s 8s/step - loss: 0.3396 - accuracy: 0.8833 - val_loss: 0.4126 - val_accuracy: 0.8533\n",
            "Epoch 7/10\n",
            "75/75 [==============================] - 600s 8s/step - loss: 0.3128 - accuracy: 0.8950 - val_loss: 0.3983 - val_accuracy: 0.8667\n",
            "Epoch 8/10\n",
            "75/75 [==============================] - 582s 8s/step - loss: 0.2960 - accuracy: 0.8979 - val_loss: 0.3899 - val_accuracy: 0.8733\n",
            "Epoch 9/10\n",
            "75/75 [==============================] - 615s 8s/step - loss: 0.2783 - accuracy: 0.9104 - val_loss: 0.3785 - val_accuracy: 0.8700\n",
            "Epoch 10/10\n",
            "75/75 [==============================] - 590s 8s/step - loss: 0.2665 - accuracy: 0.9137 - val_loss: 0.3758 - val_accuracy: 0.8600\n"
          ]
        }
      ]
    },
    {
      "cell_type": "markdown",
      "source": [
        "Learing Curves"
      ],
      "metadata": {
        "id": "kSGhtmsAHPsP"
      }
    },
    {
      "cell_type": "code",
      "source": [
        "acc = history.history['accuracy']\n",
        "val_acc = history.history['val_accuracy']\n",
        "\n",
        "loss = history.history['loss']\n",
        "val_loss = history.history['val_loss']\n",
        "\n",
        "plt.figure(figsize=(8, 8))\n",
        "plt.subplot(2, 1, 1)\n",
        "plt.plot(acc, label='Training Accuracy')\n",
        "plt.plot(val_acc, label='Validation Accuracy')\n",
        "plt.legend(loc='lower right')\n",
        "plt.ylabel('Accuracy')\n",
        "plt.ylim([min(plt.ylim()),1])\n",
        "plt.title('Training and Validation Accuracy')\n",
        "\n",
        "plt.subplot(2, 1, 2)\n",
        "plt.plot(loss, label='Training Loss')\n",
        "plt.plot(val_loss, label='Validation Loss')\n",
        "plt.legend(loc='upper right')\n",
        "plt.ylabel('Cross Entropy')\n",
        "plt.ylim([0,1.0])\n",
        "plt.title('Training and Validation Loss')\n",
        "plt.xlabel('epoch')\n",
        "plt.show()"
      ],
      "metadata": {
        "id": "L3H_o5A5HSqm",
        "colab": {
          "base_uri": "https://localhost:8080/",
          "height": 718
        },
        "outputId": "f3abbbda-61ba-4873-af7e-c8adba30fde4"
      },
      "execution_count": null,
      "outputs": [
        {
          "output_type": "display_data",
          "data": {
            "text/plain": [
              "<Figure size 800x800 with 2 Axes>"
            ],
            "image/png": "[encoded data removed]"
          },
          "metadata": {}
        }
      ]
    },
    {
      "cell_type": "markdown",
      "source": [
        "Fine Tuning the Model"
      ],
      "metadata": {
        "id": "njIOpfyKIf38"
      }
    },
    {
      "cell_type": "markdown",
      "source": [
        "Unfreezing the last layers"
      ],
      "metadata": {
        "id": "xj8aDfjfIjGZ"
      }
    },
    {
      "cell_type": "code",
      "source": [
        "for layer in model.layers:\n",
        "    layer.trainable = True\n",
        "\n",
        "for layer in model.layers[:40]:\n",
        "  layer.trainable = False"
      ],
      "metadata": {
        "id": "-wzc5rdjdEgH"
      },
      "execution_count": null,
      "outputs": []
    },
    {
      "cell_type": "markdown",
      "source": [
        "Recompile the model"
      ],
      "metadata": {
        "id": "DYAK7Cq1Immp"
      }
    },
    {
      "cell_type": "code",
      "source": [
        "sgd_optimizer = optimizers.SGD(learning_rate=learning_rate/10, momentum=0.9)\n",
        "\n",
        "model.compile(\n",
        "    optimizer=sgd_optimizer,\n",
        "    loss='categorical_crossentropy',\n",
        "    metrics=['accuracy']\n",
        ")"
      ],
      "metadata": {
        "id": "z70gRedwHtfx"
      },
      "execution_count": null,
      "outputs": []
    },
    {
      "cell_type": "markdown",
      "source": [
        "**Training the Model**"
      ],
      "metadata": {
        "id": "8fmFqDSqItNN"
      }
    },
    {
      "cell_type": "code",
      "source": [
        "history_fine = model.fit(\n",
        "    Im_train, Y_train_encoded,\n",
        "    epochs=15,\n",
        "    initial_epoch=history.epoch[-1],\n",
        "    validation_data=(Im_valid, Y_val_encoded)\n",
        ")"
      ],
      "metadata": {
        "colab": {
          "base_uri": "https://localhost:8080/"
        },
        "id": "l5kvDYu2drHx",
        "outputId": "16b5f498-532d-4470-9cf3-1d5a4a7b8c62"
      },
      "execution_count": null,
      "outputs": [
        {
          "output_type": "stream",
          "name": "stdout",
          "text": [
            "Epoch 10/15\n",
            "75/75 [==============================] - 630s 8s/step - loss: 0.2536 - accuracy: 0.9200 - val_loss: 0.3758 - val_accuracy: 0.8600\n",
            "Epoch 11/15\n",
            "75/75 [==============================] - 589s 8s/step - loss: 0.2536 - accuracy: 0.9200 - val_loss: 0.3758 - val_accuracy: 0.8600\n",
            "Epoch 12/15\n",
            "75/75 [==============================] - 572s 8s/step - loss: 0.2536 - accuracy: 0.9200 - val_loss: 0.3758 - val_accuracy: 0.8600\n",
            "Epoch 13/15\n",
            "75/75 [==============================] - 591s 8s/step - loss: 0.2536 - accuracy: 0.9200 - val_loss: 0.3758 - val_accuracy: 0.8600\n",
            "Epoch 14/15\n",
            "75/75 [==============================] - 592s 8s/step - loss: 0.2536 - accuracy: 0.9200 - val_loss: 0.3758 - val_accuracy: 0.8600\n",
            "Epoch 15/15\n",
            "75/75 [==============================] - 572s 8s/step - loss: 0.2536 - accuracy: 0.9200 - val_loss: 0.3758 - val_accuracy: 0.8600\n"
          ]
        }
      ]
    },
    {
      "cell_type": "code",
      "source": [
        "acc += history_fine.history['accuracy']\n",
        "val_acc += history_fine.history['val_accuracy']\n",
        "\n",
        "loss += history_fine.history['loss']\n",
        "val_loss += history_fine.history['val_loss']"
      ],
      "metadata": {
        "id": "yv3oDQHVHy0k"
      },
      "execution_count": null,
      "outputs": []
    },
    {
      "cell_type": "code",
      "source": [
        "plt.figure(figsize=(8, 8))\n",
        "plt.subplot(2, 1, 1)\n",
        "plt.plot(acc, label='Training Accuracy')\n",
        "plt.plot(val_acc, label='Validation Accuracy')\n",
        "plt.ylim([0.8, 1])\n",
        "plt.plot([9,9],\n",
        "          plt.ylim(), label='Start Fine Tuning')\n",
        "plt.legend(loc='lower right')\n",
        "plt.title('Training and Validation Accuracy')\n",
        "\n",
        "plt.subplot(2, 1, 2)\n",
        "plt.plot(loss, label='Training Loss')\n",
        "plt.plot(val_loss, label='Validation Loss')\n",
        "plt.ylim([0, 1.0])\n",
        "plt.plot([9,9],\n",
        "         plt.ylim(), label='Start Fine Tuning')\n",
        "plt.legend(loc='upper right')\n",
        "plt.title('Training and Validation Loss')\n",
        "plt.xlabel('epoch')\n",
        "plt.show()"
      ],
      "metadata": {
        "id": "nvSMLSmTIPGY",
        "colab": {
          "base_uri": "https://localhost:8080/",
          "height": 718
        },
        "outputId": "f2d1b99f-2310-443c-c692-7dfb71707eaa"
      },
      "execution_count": null,
      "outputs": [
        {
          "output_type": "display_data",
          "data": {
            "text/plain": [
              "<Figure size 800x800 with 2 Axes>"
            ],
            "image/png": "[encoded data removed]"
          },
          "metadata": {}
        }
      ]
    },
    {
      "cell_type": "markdown",
      "source": [
        "**Testing the Model**"
      ],
      "metadata": {
        "id": "2cXczPVNI3q6"
      }
    },
    {
      "cell_type": "code",
      "source": [
        "Im_test = []\n",
        "Y_test = []\n",
        "\n",
        "for i in range(len(X_test)):\n",
        "    img = Image.open(X_test[i])\n",
        "    im_array = np.array(img)\n",
        "    if len(im_array.shape) != 3:\n",
        "        continue\n",
        "    else:\n",
        "        im_array = resize_image_3d(im_array)\n",
        "        Im_test.append(im_array)\n",
        "        Y_test.append(y_test[i])"
      ],
      "metadata": {
        "id": "wEfzgxb0d6Nj"
      },
      "execution_count": 38,
      "outputs": []
    },
    {
      "cell_type": "code",
      "source": [
        "Im_test = np.array(Im_test)\n",
        "Y_test = np.array(Y_test)"
      ],
      "metadata": {
        "id": "Kc6hCPZDeJTt"
      },
      "execution_count": 39,
      "outputs": []
    },
    {
      "cell_type": "code",
      "source": [
        "Y_test_encoded = encoder.transform(Y_test.reshape(-1, 1))"
      ],
      "metadata": {
        "id": "ZXCWtTLLeLi8"
      },
      "execution_count": 40,
      "outputs": []
    },
    {
      "cell_type": "markdown",
      "source": [
        "Evaluating the model"
      ],
      "metadata": {
        "id": "SuKuaaJfI_jL"
      }
    },
    {
      "cell_type": "code",
      "source": [
        "evaluation = model.evaluate(Im_test, Y_test_encoded)"
      ],
      "metadata": {
        "id": "Kxc7XCSDd05d",
        "colab": {
          "base_uri": "https://localhost:8080/"
        },
        "outputId": "316e8311-2d4b-4cf3-a520-fdfd3e22a37a"
      },
      "execution_count": 41,
      "outputs": [
        {
          "output_type": "stream",
          "name": "stdout",
          "text": [
            "10/10 [==============================] - 71s 7s/step - loss: 0.4027 - accuracy: 0.8500\n"
          ]
        }
      ]
    },
    {
      "cell_type": "code",
      "source": [
        "accuracy = evaluation[1]\n",
        "\n",
        "print(f'Test Accuracy: {accuracy}')"
      ],
      "metadata": {
        "colab": {
          "base_uri": "https://localhost:8080/"
        },
        "id": "MQd3wxREeR5H",
        "outputId": "2c82aa6f-eb76-496f-895e-a79eae820d6f"
      },
      "execution_count": 42,
      "outputs": [
        {
          "output_type": "stream",
          "name": "stdout",
          "text": [
            "Test Accuracy: 0.8500000238418579\n"
          ]
        }
      ]
    }
  ]
}