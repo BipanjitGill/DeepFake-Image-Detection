{
  "nbformat": 4,
  "nbformat_minor": 0,
  "metadata": {
    "colab": {
      "provenance": []
    },
    "kernelspec": {
      "name": "python3",
      "display_name": "Python 3"
    },
    "language_info": {
      "name": "python"
    }
  },
  "cells": [
    {
      "cell_type": "code",
      "execution_count": null,
      "metadata": {
        "colab": {
          "base_uri": "https://localhost:8080/"
        },
        "id": "dMDZSRy_zSZE",
        "outputId": "e8e87522-0662-4959-dddf-c9da0f3f2396"
      },
      "outputs": [
        {
          "output_type": "stream",
          "name": "stdout",
          "text": [
            "Mounted at /content/drive/\n"
          ]
        }
      ],
      "source": [
        "from google.colab import drive\n",
        "drive.mount('/content/drive/')"
      ]
    },
    {
      "cell_type": "markdown",
      "source": [
        "**Importing the necessary Libraries**"
      ],
      "metadata": {
        "id": "pKHMu3gOC_us"
      }
    },
    {
      "cell_type": "code",
      "source": [
        "import os\n",
        "import random\n",
        "from PIL import Image\n",
        "import numpy as np\n",
        "import tensorflow as tf\n",
        "from tensorflow.keras import layers, models, optimizers\n",
        "from tensorflow.keras.applications import ResNet50\n",
        "from sklearn.preprocessing import OneHotEncoder\n",
        "import matplotlib.pyplot as plt\n",
        "from tensorflow.keras.models import load_model"
      ],
      "metadata": {
        "id": "mRXWHt_qCPPS"
      },
      "execution_count": null,
      "outputs": []
    },
    {
      "cell_type": "markdown",
      "source": [
        "**Importing the Dataset**"
      ],
      "metadata": {
        "id": "UTr4QiWG-l3M"
      }
    },
    {
      "cell_type": "code",
      "source": [
        "DM1=\"/content/drive/MyDrive/Deep Fake/Dataset/DM/Dalle/1_fake\"\n",
        "DM2=\"/content/drive/MyDrive/Deep Fake/Dataset/DM/glide_100_10/1_fake\"\n",
        "DM3=\"/content/drive/MyDrive/Deep Fake/Dataset/DM/ldm_100/1_fake\"\n",
        "GAN1=\"/content/drive/MyDrive/Deep Fake/Dataset/GAN/biggan\"\n",
        "GAN2=\"/content/drive/MyDrive/Deep Fake/Dataset/GAN/gaugan\"\n",
        "GAN3=\"/content/drive/MyDrive/Deep Fake/Dataset/GAN/stargan\"\n",
        "DM1_lis=os.listdir(DM1)\n",
        "DM2_lis=os.listdir(DM2)\n",
        "DM3_lis=os.listdir(DM3)\n",
        "GAN1_lis=os.listdir(GAN1)\n",
        "GAN2_lis=os.listdir(GAN2)\n",
        "GAN3_lis=os.listdir(GAN3)"
      ],
      "metadata": {
        "id": "cf-XIz_mfCJL"
      },
      "execution_count": null,
      "outputs": []
    },
    {
      "cell_type": "code",
      "source": [
        "print(len(DM1_lis))\n",
        "print(len(DM2_lis))\n",
        "print(len(DM3_lis))\n",
        "print(len(GAN1_lis))\n",
        "print(len(GAN2_lis))\n",
        "print(len(GAN3_lis))"
      ],
      "metadata": {
        "colab": {
          "base_uri": "https://localhost:8080/"
        },
        "id": "DvMJRGBMgeNF",
        "outputId": "693fe402-9fc8-41f4-c404-b2b140ae9342"
      },
      "execution_count": null,
      "outputs": [
        {
          "output_type": "stream",
          "name": "stdout",
          "text": [
            "1000\n",
            "1000\n",
            "1001\n",
            "1200\n",
            "1170\n",
            "1131\n"
          ]
        }
      ]
    },
    {
      "cell_type": "markdown",
      "source": [
        "**Creating Diffusion Model and GAN Dataset**"
      ],
      "metadata": {
        "id": "DCYpwptw_rMs"
      }
    },
    {
      "cell_type": "code",
      "source": [
        "DM_dataset=[]\n",
        "GAN_dataset=[]\n",
        "for i in range(len(DM1_lis)):\n",
        "   DM1_lis[i]=DM1+'/'+DM1_lis[i]\n",
        "   DM_dataset.append([DM1_lis[i],1])\n",
        "\n",
        "for i in range(len(DM2_lis)):\n",
        "   DM2_lis[i]=DM2+'/'+DM2_lis[i]\n",
        "   DM_dataset.append([DM2_lis[i],1])\n",
        "\n",
        "for i in range(len(DM3_lis)):\n",
        "   DM3_lis[i]=DM3+'/'+DM3_lis[i]\n",
        "   DM_dataset.append([DM3_lis[i],1])\n",
        "\n",
        "for i in range(len(GAN1_lis)):\n",
        "   GAN1_lis[i]=GAN1+'/'+GAN1_lis[i]\n",
        "   GAN_dataset.append([GAN1_lis[i],0])\n",
        "\n",
        "for i in range(len(GAN2_lis)):\n",
        "   GAN2_lis[i]=GAN2+'/'+GAN2_lis[i]\n",
        "   GAN_dataset.append([GAN2_lis[i],0])\n",
        "\n",
        "for i in range(len(GAN3_lis)):\n",
        "   GAN3_lis[i]=GAN3+'/'+GAN3_lis[i]\n",
        "   GAN_dataset.append([GAN3_lis[i],0])"
      ],
      "metadata": {
        "id": "gN_JjA8jg1RI"
      },
      "execution_count": null,
      "outputs": []
    },
    {
      "cell_type": "code",
      "source": [
        "print(len(GAN_dataset))\n",
        "print(len(DM_dataset))"
      ],
      "metadata": {
        "colab": {
          "base_uri": "https://localhost:8080/"
        },
        "id": "CZY2gopT6LvO",
        "outputId": "756d4ea7-8cee-456e-acc0-2573f7c983bb"
      },
      "execution_count": null,
      "outputs": [
        {
          "output_type": "stream",
          "name": "stdout",
          "text": [
            "3501\n",
            "3001\n"
          ]
        }
      ]
    },
    {
      "cell_type": "markdown",
      "source": [
        "Shuffling the Dataset"
      ],
      "metadata": {
        "id": "rCY2XvAr_4P6"
      }
    },
    {
      "cell_type": "code",
      "source": [
        "random.shuffle(GAN_dataset)\n",
        "random.shuffle(DM_dataset)"
      ],
      "metadata": {
        "id": "1TwQojhR3fQq"
      },
      "execution_count": null,
      "outputs": []
    },
    {
      "cell_type": "code",
      "source": [
        "dataset = GAN_dataset[:1500] + DM_dataset[:1500]"
      ],
      "metadata": {
        "id": "vM0OzZ1X65oX"
      },
      "execution_count": null,
      "outputs": []
    },
    {
      "cell_type": "code",
      "source": [
        "random.shuffle(dataset)"
      ],
      "metadata": {
        "id": "lL4M69OR6_eA"
      },
      "execution_count": null,
      "outputs": []
    },
    {
      "cell_type": "code",
      "source": [
        "print(dataset[2])\n"
      ],
      "metadata": {
        "colab": {
          "base_uri": "https://localhost:8080/"
        },
        "id": "QA-62LoW7TNI",
        "outputId": "ee0c8189-c7fe-496c-eacd-06dd74ef6636"
      },
      "execution_count": null,
      "outputs": [
        {
          "output_type": "stream",
          "name": "stdout",
          "text": [
            "['/content/drive/MyDrive/Deep Fake/Dataset/DM/ldm_100/1_fake/ahwxcijnxm.png', 1]\n"
          ]
        }
      ]
    },
    {
      "cell_type": "markdown",
      "source": [
        "**Creating Training and Validation dataset**"
      ],
      "metadata": {
        "id": "5qK9msbqA8nH"
      }
    },
    {
      "cell_type": "code",
      "source": [
        "X_train=[]\n",
        "y_train=[]\n",
        "for x in dataset:\n",
        "    X_train.append(x[0])\n",
        "    y_train.append(x[1])"
      ],
      "metadata": {
        "id": "EzSO9fv14Cr5"
      },
      "execution_count": null,
      "outputs": []
    },
    {
      "cell_type": "code",
      "source": [
        "from sklearn.model_selection import train_test_split\n",
        "X_train, X_val, y_train, y_val = train_test_split(X_train, y_train, test_size=0.1, random_state=42)\n"
      ],
      "metadata": {
        "id": "tPWSBVtY4TaO"
      },
      "execution_count": null,
      "outputs": []
    },
    {
      "cell_type": "markdown",
      "source": [
        "Resizing the image according to model's input"
      ],
      "metadata": {
        "id": "qjba-t-fBKyp"
      }
    },
    {
      "cell_type": "code",
      "source": [
        "def resize_image_3d(image_array, target_shape=(224, 224, 3)):\n",
        "    if len(image_array.shape) != 3 or image_array.shape[2] != target_shape[2]:\n",
        "        raise ValueError(f\"Input array must have shape (height, width, {target_shape[2]})\")\n",
        "\n",
        "    resized_image = np.array(Image.fromarray(image_array).resize((target_shape[1], target_shape[0])))\n",
        "\n",
        "    return resized_image\n"
      ],
      "metadata": {
        "id": "mDXjJ0C6-PZ8"
      },
      "execution_count": null,
      "outputs": []
    },
    {
      "cell_type": "markdown",
      "source": [
        "**Preprocessing**"
      ],
      "metadata": {
        "id": "D0TSYxqMBQln"
      }
    },
    {
      "cell_type": "code",
      "source": [
        "Im_train = []\n",
        "Y_train = []\n",
        "\n",
        "for i in range(len(X_train)):\n",
        "    img = Image.open(X_train[i])\n",
        "    im_array = np.array(img)\n",
        "    if len(im_array.shape) != 3:\n",
        "        continue\n",
        "    else:\n",
        "        im_array = resize_image_3d(im_array)\n",
        "        Im_train.append(im_array)\n",
        "        Y_train.append(y_train[i])\n",
        "\n",
        "Im_valid = []\n",
        "Y_val = []\n",
        "\n",
        "for i in range(len(X_val)):\n",
        "    img = Image.open(X_val[i])\n",
        "    im_array = np.array(img)\n",
        "    if len(im_array.shape) != 3:\n",
        "        continue\n",
        "    else:\n",
        "        im_array = resize_image_3d(im_array)\n",
        "        Im_valid.append(im_array)\n",
        "        Y_val.append(y_val[i])\n"
      ],
      "metadata": {
        "id": "YCheYpwr4VtC"
      },
      "execution_count": null,
      "outputs": []
    },
    {
      "cell_type": "markdown",
      "source": [
        "Defining the parameters and hyperparameters"
      ],
      "metadata": {
        "id": "j_pLbVEgBXa7"
      }
    },
    {
      "cell_type": "code",
      "source": [
        "num_classes = 2\n",
        "batch_size = 30\n",
        "epochs = 10\n",
        "learning_rate = 0.0005"
      ],
      "metadata": {
        "id": "cOZDPW-GBy7N"
      },
      "execution_count": null,
      "outputs": []
    },
    {
      "cell_type": "markdown",
      "source": [
        "**Loading the base model(Resnet50)**"
      ],
      "metadata": {
        "id": "8T3aEcnwBcz2"
      }
    },
    {
      "cell_type": "code",
      "source": [
        "base_model = ResNet50(weights='imagenet', include_top=False, input_shape=(224, 224, 3))\n"
      ],
      "metadata": {
        "id": "G2NF56Eva7U0",
        "colab": {
          "base_uri": "https://localhost:8080/"
        },
        "outputId": "a14eab6a-1e3c-4430-db33-170594a26cba"
      },
      "execution_count": null,
      "outputs": [
        {
          "output_type": "stream",
          "name": "stdout",
          "text": [
            "Downloading data from https://storage.googleapis.com/tensorflow/keras-applications/resnet/resnet50_weights_tf_dim_ordering_tf_kernels_notop.h5\n",
            "94765736/94765736 [==============================] - 1s 0us/step\n"
          ]
        }
      ]
    },
    {
      "cell_type": "markdown",
      "source": [
        "Freezing the layers of Resnet 50"
      ],
      "metadata": {
        "id": "isOaA7J6BlSP"
      }
    },
    {
      "cell_type": "code",
      "source": [
        "for layer in base_model.layers:\n",
        "    layer.trainable = False"
      ],
      "metadata": {
        "id": "F-sWlOV1a8px"
      },
      "execution_count": null,
      "outputs": []
    },
    {
      "cell_type": "markdown",
      "source": [
        "Adding more layers for classification"
      ],
      "metadata": {
        "id": "AvuWyOfEBsJX"
      }
    },
    {
      "cell_type": "code",
      "source": [
        "model = models.Sequential()\n",
        "model.add(base_model)\n",
        "model.add(layers.GlobalAveragePooling2D())\n",
        "model.add(layers.Dense(num_classes, activation='softmax'))"
      ],
      "metadata": {
        "id": "Ub5-kAFca_mp"
      },
      "execution_count": null,
      "outputs": []
    },
    {
      "cell_type": "markdown",
      "source": [
        "Compiling the model"
      ],
      "metadata": {
        "id": "wDoSNkqjB1R8"
      }
    },
    {
      "cell_type": "code",
      "source": [
        "sgd_optimizer = optimizers.SGD(learning_rate=learning_rate, momentum=0.9)\n",
        "model.compile(\n",
        "    optimizer=sgd_optimizer,\n",
        "    loss='categorical_crossentropy',\n",
        "    metrics=['accuracy']\n",
        ")"
      ],
      "metadata": {
        "id": "DYcLNSZTbCrh"
      },
      "execution_count": null,
      "outputs": []
    },
    {
      "cell_type": "code",
      "source": [
        "Im_train = np.array(Im_train)\n",
        "Y_train = np.array(Y_train)\n",
        "Im_valid = np.array(Im_valid)\n",
        "Y_val = np.array(Y_val)"
      ],
      "metadata": {
        "id": "hqd-eBcmLw4D"
      },
      "execution_count": null,
      "outputs": []
    },
    {
      "cell_type": "markdown",
      "source": [
        "Encoding the output using One Hot Encoding"
      ],
      "metadata": {
        "id": "eLAo4ftYB4Ih"
      }
    },
    {
      "cell_type": "code",
      "source": [
        "encoder = OneHotEncoder(sparse=False)\n",
        "Y_train_encoded = encoder.fit_transform(Y_train.reshape(-1, 1))\n",
        "Y_val_encoded = encoder.transform(Y_val.reshape(-1, 1))"
      ],
      "metadata": {
        "colab": {
          "base_uri": "https://localhost:8080/"
        },
        "id": "oJm5XNuTUIhg",
        "outputId": "1df2ab11-5a81-43b8-9fa8-ede356a79863"
      },
      "execution_count": null,
      "outputs": [
        {
          "output_type": "stream",
          "name": "stderr",
          "text": [
            "/usr/local/lib/python3.10/dist-packages/sklearn/preprocessing/_encoders.py:868: FutureWarning: `sparse` was renamed to `sparse_output` in version 1.2 and will be removed in 1.4. `sparse_output` is ignored unless you leave `sparse` to its default value.\n",
            "  warnings.warn(\n"
          ]
        }
      ]
    },
    {
      "cell_type": "code",
      "source": [
        "print(\"Encoder categories:\", encoder.categories_)\n",
        "label=np.array([0,1])\n",
        "print(encoder.transform(label.reshape(-1, 1)))"
      ],
      "metadata": {
        "colab": {
          "base_uri": "https://localhost:8080/"
        },
        "id": "EszGU13J-2qJ",
        "outputId": "886609e1-963d-43a8-aa40-2890082188c8"
      },
      "execution_count": null,
      "outputs": [
        {
          "output_type": "stream",
          "name": "stdout",
          "text": [
            "Encoder categories: [array([0, 1])]\n",
            "[[1. 0.]\n",
            " [0. 1.]]\n"
          ]
        }
      ]
    },
    {
      "cell_type": "markdown",
      "source": [
        "**Training the Model**"
      ],
      "metadata": {
        "id": "7xcfGkYhCAZ0"
      }
    },
    {
      "cell_type": "code",
      "source": [
        "history = model.fit(\n",
        "    Im_train, Y_train_encoded,\n",
        "    epochs=epochs,\n",
        "    validation_data=(Im_valid, Y_val_encoded)\n",
        ")"
      ],
      "metadata": {
        "colab": {
          "base_uri": "https://localhost:8080/"
        },
        "id": "oGM1fgg1bMI9",
        "outputId": "875a496f-da35-4267-8005-e8d0f6474bf2"
      },
      "execution_count": null,
      "outputs": [
        {
          "output_type": "stream",
          "name": "stdout",
          "text": [
            "Epoch 1/10\n",
            "85/85 [==============================] - 567s 7s/step - loss: 0.5357 - accuracy: 0.7422 - val_loss: 0.3903 - val_accuracy: 0.8000\n",
            "Epoch 2/10\n",
            "85/85 [==============================] - 573s 7s/step - loss: 0.3415 - accuracy: 0.8507 - val_loss: 0.3344 - val_accuracy: 0.8367\n",
            "Epoch 3/10\n",
            "85/85 [==============================] - 540s 6s/step - loss: 0.2925 - accuracy: 0.8819 - val_loss: 0.3095 - val_accuracy: 0.8567\n",
            "Epoch 4/10\n",
            "85/85 [==============================] - 547s 6s/step - loss: 0.2649 - accuracy: 0.8922 - val_loss: 0.2951 - val_accuracy: 0.8733\n",
            "Epoch 5/10\n",
            "85/85 [==============================] - 578s 7s/step - loss: 0.2417 - accuracy: 0.9070 - val_loss: 0.2842 - val_accuracy: 0.8867\n",
            "Epoch 6/10\n",
            "85/85 [==============================] - 505s 6s/step - loss: 0.2259 - accuracy: 0.9152 - val_loss: 0.2818 - val_accuracy: 0.8933\n",
            "Epoch 7/10\n",
            "85/85 [==============================] - 535s 6s/step - loss: 0.2172 - accuracy: 0.9204 - val_loss: 0.2741 - val_accuracy: 0.8967\n",
            "Epoch 8/10\n",
            "85/85 [==============================] - 565s 7s/step - loss: 0.2035 - accuracy: 0.9252 - val_loss: 0.2690 - val_accuracy: 0.8933\n",
            "Epoch 9/10\n",
            "85/85 [==============================] - 539s 6s/step - loss: 0.1942 - accuracy: 0.9333 - val_loss: 0.2677 - val_accuracy: 0.8933\n",
            "Epoch 10/10\n",
            "85/85 [==============================] - 585s 7s/step - loss: 0.1851 - accuracy: 0.9363 - val_loss: 0.2620 - val_accuracy: 0.9000\n"
          ]
        }
      ]
    },
    {
      "cell_type": "markdown",
      "source": [
        "**Learning Curves**\n"
      ],
      "metadata": {
        "id": "P6BHfE1hDNj2"
      }
    },
    {
      "cell_type": "code",
      "source": [
        "acc = history.history['accuracy']\n",
        "val_acc = history.history['val_accuracy']\n",
        "\n",
        "loss = history.history['loss']\n",
        "val_loss = history.history['val_loss']\n",
        "\n",
        "plt.figure(figsize=(8, 8))\n",
        "plt.subplot(2, 1, 1)\n",
        "plt.plot(acc, label='Training Accuracy')\n",
        "plt.plot(val_acc, label='Validation Accuracy')\n",
        "plt.legend(loc='lower right')\n",
        "plt.ylabel('Accuracy')\n",
        "plt.ylim([min(plt.ylim()),1])\n",
        "plt.title('Training and Validation Accuracy')\n",
        "\n",
        "plt.subplot(2, 1, 2)\n",
        "plt.plot(loss, label='Training Loss')\n",
        "plt.plot(val_loss, label='Validation Loss')\n",
        "plt.legend(loc='upper right')\n",
        "plt.ylabel('Cross Entropy')\n",
        "plt.ylim([0,1.0])\n",
        "plt.title('Training and Validation Loss')\n",
        "plt.xlabel('epoch')\n",
        "plt.show()"
      ],
      "metadata": {
        "id": "Lf3XSsd2bTP3",
        "colab": {
          "base_uri": "https://localhost:8080/",
          "height": 718
        },
        "outputId": "e3970453-9d30-4035-aee0-e720f2fa7f3f"
      },
      "execution_count": null,
      "outputs": [
        {
          "output_type": "display_data",
          "data": {
            "text/plain": [
              "<Figure size 800x800 with 2 Axes>"
            ],
            "image/png": "[encoded data removed]"
          },
          "metadata": {}
        }
      ]
    },
    {
      "cell_type": "markdown",
      "source": [
        "**Fine Tuning Model**"
      ],
      "metadata": {
        "id": "iGCMUzxDDXQY"
      }
    },
    {
      "cell_type": "markdown",
      "source": [
        "Unfreezing the last 10 layers"
      ],
      "metadata": {
        "id": "mx0a-gGRDcwK"
      }
    },
    {
      "cell_type": "code",
      "source": [
        "for layer in model.layers:\n",
        "    layer.trainable = True\n",
        "\n",
        "for layer in model.layers[:40]:\n",
        "  layer.trainable = False"
      ],
      "metadata": {
        "id": "z-pwVBNlWdid"
      },
      "execution_count": null,
      "outputs": []
    },
    {
      "cell_type": "code",
      "source": [
        "sgd_optimizer = optimizers.SGD(learning_rate=learning_rate/10, momentum=0.9)\n",
        "model.compile(\n",
        "    optimizer=sgd_optimizer,\n",
        "    loss='categorical_crossentropy',\n",
        "    metrics=['accuracy']\n",
        ")"
      ],
      "metadata": {
        "id": "EEohcTHzDj14"
      },
      "execution_count": null,
      "outputs": []
    },
    {
      "cell_type": "markdown",
      "source": [
        "Traing the model again"
      ],
      "metadata": {
        "id": "SHv9aKKaD_s7"
      }
    },
    {
      "cell_type": "code",
      "source": [
        "history = model.fit(\n",
        "    Im_train, Y_train_encoded,\n",
        "    epochs=5,\n",
        "    validation_data=(Im_valid, Y_val_encoded)\n",
        ")"
      ],
      "metadata": {
        "colab": {
          "base_uri": "https://localhost:8080/"
        },
        "id": "zRLgZMI9WwDR",
        "outputId": "b3732c32-56a3-4283-d01d-86cc29821c87"
      },
      "execution_count": null,
      "outputs": [
        {
          "output_type": "stream",
          "name": "stdout",
          "text": [
            "Epoch 1/5\n",
            "85/85 [==============================] - 532s 6s/step - loss: 0.1742 - accuracy: 0.9411 - val_loss: 0.2620 - val_accuracy: 0.9000\n",
            "Epoch 2/5\n",
            "85/85 [==============================] - 504s 6s/step - loss: 0.1742 - accuracy: 0.9411 - val_loss: 0.2620 - val_accuracy: 0.9000\n",
            "Epoch 3/5\n",
            "85/85 [==============================] - 505s 6s/step - loss: 0.1742 - accuracy: 0.9411 - val_loss: 0.2620 - val_accuracy: 0.9000\n",
            "Epoch 4/5\n",
            "85/85 [==============================] - 538s 6s/step - loss: 0.1742 - accuracy: 0.9411 - val_loss: 0.2620 - val_accuracy: 0.9000\n",
            "Epoch 5/5\n",
            "85/85 [==============================] - 537s 6s/step - loss: 0.1742 - accuracy: 0.9411 - val_loss: 0.2620 - val_accuracy: 0.9000\n"
          ]
        }
      ]
    },
    {
      "cell_type": "markdown",
      "source": [
        "**Saving the Model**"
      ],
      "metadata": {
        "id": "tCgULRW0EEJC"
      }
    },
    {
      "cell_type": "code",
      "source": [
        "fine_tuned_model_path = '/content/drive/MyDrive/Deep Fake/fine_tuned_model.h5'\n",
        "model.save(fine_tuned_model_path)"
      ],
      "metadata": {
        "id": "gqFXLGVJXS6b"
      },
      "execution_count": null,
      "outputs": []
    },
    {
      "cell_type": "markdown",
      "source": [
        "**Testing the Model**"
      ],
      "metadata": {
        "id": "VuRn7wnHELG_"
      }
    },
    {
      "cell_type": "markdown",
      "source": [
        "Loading the files\n",
        "\n"
      ],
      "metadata": {
        "id": "bB5sEYr2EQCn"
      }
    },
    {
      "cell_type": "code",
      "source": [
        "gan=\"/content/drive/MyDrive/Deep Fake/Dataset/GAN/gaugan\"\n",
        "dm=\"/content/drive/MyDrive/Deep Fake/Dataset/DM/Dalle/1_fake\"\n",
        "DM_lis=os.listdir(dm)\n",
        "GAN_lis=os.listdir(gan)"
      ],
      "metadata": {
        "id": "ql0riVQqUQoq"
      },
      "execution_count": 50,
      "outputs": []
    },
    {
      "cell_type": "markdown",
      "source": [
        "Creating testing dataset"
      ],
      "metadata": {
        "id": "dv3mlScWEbpa"
      }
    },
    {
      "cell_type": "code",
      "source": [
        "GAN_dataset=[]\n",
        "DM_dataset=[]\n",
        "for i in range(len(DM_lis)):\n",
        "   DM_lis[i]=dm+'/'+DM_lis[i]\n",
        "   DM_dataset.append([DM_lis[i],1])\n",
        "\n",
        "for i in range(len(GAN_lis)):\n",
        "   GAN_lis[i]=gan+'/'+GAN_lis[i]\n",
        "   GAN_dataset.append([GAN_lis[i],0])"
      ],
      "metadata": {
        "id": "YVxzsvRWVRHZ"
      },
      "execution_count": 51,
      "outputs": []
    },
    {
      "cell_type": "code",
      "source": [
        "dataset = GAN_dataset[:200] + DM_dataset[:200]"
      ],
      "metadata": {
        "id": "GGd4axM2VvqD"
      },
      "execution_count": 52,
      "outputs": []
    },
    {
      "cell_type": "code",
      "source": [
        "random.shuffle(dataset)"
      ],
      "metadata": {
        "id": "Yd6vs5seVywQ"
      },
      "execution_count": 53,
      "outputs": []
    },
    {
      "cell_type": "code",
      "source": [
        "X_test=[]\n",
        "y_test=[]\n",
        "for x in dataset:\n",
        "    X_test.append(x[0])\n",
        "    y_test.append(x[1])"
      ],
      "metadata": {
        "id": "4xkp9-cqV6of"
      },
      "execution_count": 54,
      "outputs": []
    },
    {
      "cell_type": "code",
      "source": [
        "Im_test = []\n",
        "Y_test = []\n",
        "\n",
        "for i in range(len(X_test)):\n",
        "    img = Image.open(X_test[i])\n",
        "    im_array = np.array(img)\n",
        "    if len(im_array.shape) != 3:\n",
        "        continue\n",
        "    else:\n",
        "        im_array = resize_image_3d(im_array)\n",
        "        Im_test.append(im_array)\n",
        "        Y_test.append(y_test[i])"
      ],
      "metadata": {
        "id": "49M110vkWFNc"
      },
      "execution_count": 55,
      "outputs": []
    },
    {
      "cell_type": "code",
      "source": [
        "Im_test = np.array(Im_test)\n",
        "Y_test = np.array(Y_test)"
      ],
      "metadata": {
        "id": "0lrepuE1ac7z"
      },
      "execution_count": 56,
      "outputs": []
    },
    {
      "cell_type": "code",
      "source": [
        "Y_test_encoded = encoder.transform(Y_test.reshape(-1, 1))"
      ],
      "metadata": {
        "id": "6A7YZANcXL_m"
      },
      "execution_count": 57,
      "outputs": []
    },
    {
      "cell_type": "markdown",
      "source": [
        "\n",
        "**Evaluating the Performance of model**\n",
        "\n"
      ],
      "metadata": {
        "id": "SiRULbe0Egym"
      }
    },
    {
      "cell_type": "code",
      "source": [
        "evaluation = model.evaluate(Im_test, Y_test_encoded)"
      ],
      "metadata": {
        "id": "xKmTwgXwYYLS",
        "colab": {
          "base_uri": "https://localhost:8080/"
        },
        "outputId": "6a1f6b3e-1faa-4f4f-ff92-1297b71cc4b7"
      },
      "execution_count": 58,
      "outputs": [
        {
          "output_type": "stream",
          "name": "stdout",
          "text": [
            "13/13 [==============================] - 74s 6s/step - loss: 0.1880 - accuracy: 0.9400\n"
          ]
        }
      ]
    },
    {
      "cell_type": "code",
      "source": [
        "print(evaluation)"
      ],
      "metadata": {
        "id": "uDgLiVfzYgSe",
        "colab": {
          "base_uri": "https://localhost:8080/"
        },
        "outputId": "0e11e1de-2b06-437f-9318-60c8e2a5bce6"
      },
      "execution_count": 59,
      "outputs": [
        {
          "output_type": "stream",
          "name": "stdout",
          "text": [
            "[0.1880301982164383, 0.9399999976158142]\n"
          ]
        }
      ]
    },
    {
      "cell_type": "code",
      "source": [
        "accuracy = evaluation[1]\n",
        "\n",
        "print(f'Test Accuracy: {accuracy}')"
      ],
      "metadata": {
        "colab": {
          "base_uri": "https://localhost:8080/"
        },
        "id": "mvx0GGCYYijw",
        "outputId": "93b32226-2a58-4c83-c39e-89f78a4c3b83"
      },
      "execution_count": 60,
      "outputs": [
        {
          "output_type": "stream",
          "name": "stdout",
          "text": [
            "Test Accuracy: 0.9399999976158142\n"
          ]
        }
      ]
    }
  ]
}