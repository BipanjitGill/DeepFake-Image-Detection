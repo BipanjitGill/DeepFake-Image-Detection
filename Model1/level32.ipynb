{
  "nbformat": 4,
  "nbformat_minor": 0,
  "metadata": {
    "colab": {
      "provenance": []
    },
    "kernelspec": {
      "name": "python3",
      "display_name": "Python 3"
    },
    "language_info": {
      "name": "python"
    },
    "accelerator": "TPU"
  },
  "cells": [
    {
      "cell_type": "code",
      "execution_count": 1,
      "metadata": {
        "colab": {
          "base_uri": "https://localhost:8080/"
        },
        "id": "dMDZSRy_zSZE",
        "outputId": "1eee6d4c-0806-4ec5-a747-2b5d1c935db3"
      },
      "outputs": [
        {
          "output_type": "stream",
          "name": "stdout",
          "text": [
            "Mounted at /content/drive/\n"
          ]
        }
      ],
      "source": [
        "from google.colab import drive\n",
        "drive.mount('/content/drive/')"
      ]
    },
    {
      "cell_type": "markdown",
      "source": [
        "**Importing the Libraries**"
      ],
      "metadata": {
        "id": "e04wGLRPJZ2n"
      }
    },
    {
      "cell_type": "code",
      "source": [
        "import os\n",
        "import random\n",
        "from PIL import Image\n",
        "import numpy as np\n",
        "from sklearn.model_selection import train_test_split\n",
        "import tensorflow as tf\n",
        "from tensorflow.keras import layers, models, optimizers\n",
        "from tensorflow.keras.applications import ResNet50\n",
        "from sklearn.preprocessing import OneHotEncoder\n",
        "import matplotlib.pyplot as plt"
      ],
      "metadata": {
        "id": "liyNdmDtJfrG"
      },
      "execution_count": 25,
      "outputs": []
    },
    {
      "cell_type": "markdown",
      "source": [
        "**Loading the Data Files**"
      ],
      "metadata": {
        "id": "h7Qb3rbdJxp2"
      }
    },
    {
      "cell_type": "code",
      "source": [
        "BigGAN=\"/content/drive/MyDrive/Deep Fake/Dataset/GAN/biggan\"\n",
        "GauGAN=\"/content/drive/MyDrive/Deep Fake/Dataset/GAN/gaugan\"\n",
        "StarGAN=\"/content/drive/MyDrive/Deep Fake/Dataset/GAN/stargan\"\n",
        "StyleGAN=\"/content/drive/MyDrive/Deep Fake/Dataset/GAN/stylegan\"\n",
        "BigGAN_lis=os.listdir(BigGAN)\n",
        "GauGAN_lis=os.listdir(GauGAN)\n",
        "StarGAN_lis=os.listdir(StarGAN)\n",
        "StyleGAN_lis=os.listdir(StyleGAN)"
      ],
      "metadata": {
        "id": "cf-XIz_mfCJL"
      },
      "execution_count": 3,
      "outputs": []
    },
    {
      "cell_type": "code",
      "source": [
        "print(len(BigGAN_lis))\n",
        "print(len(GauGAN_lis))\n",
        "print(len(StarGAN_lis))\n",
        "print(len(StyleGAN_lis))"
      ],
      "metadata": {
        "colab": {
          "base_uri": "https://localhost:8080/"
        },
        "id": "DvMJRGBMgeNF",
        "outputId": "75500381-5cc3-4bc0-8d24-10711eb23e7d"
      },
      "execution_count": 4,
      "outputs": [
        {
          "output_type": "stream",
          "name": "stdout",
          "text": [
            "1200\n",
            "1170\n",
            "1131\n",
            "1305\n"
          ]
        }
      ]
    },
    {
      "cell_type": "markdown",
      "source": [
        "**Creating the Dataset**"
      ],
      "metadata": {
        "id": "oGzMwN3rJ3QK"
      }
    },
    {
      "cell_type": "code",
      "source": [
        "BigGAN_dataset=[]\n",
        "GauGAN_dataset=[]\n",
        "StarGAN_dataset=[]\n",
        "StyleGAN_dataset=[]\n",
        "\n",
        "for i in range(len(BigGAN_lis)):\n",
        "   BigGAN_lis[i]=BigGAN+'/'+BigGAN_lis[i]\n",
        "   BigGAN_dataset.append([BigGAN_lis[i],1])\n",
        "\n",
        "for i in range(len(GauGAN_lis)):\n",
        "   GauGAN_lis[i]=GauGAN+'/'+GauGAN_lis[i]\n",
        "   GauGAN_dataset.append([GauGAN_lis[i],2])\n",
        "\n",
        "for i in range(len(StarGAN_lis)):\n",
        "   StarGAN_lis[i]=StarGAN+'/'+StarGAN_lis[i]\n",
        "   StarGAN_dataset.append([StarGAN_lis[i],3])\n",
        "\n",
        "for i in range(len(StyleGAN_lis)):\n",
        "   StyleGAN_lis[i]=StyleGAN+'/'+StyleGAN_lis[i]\n",
        "   StyleGAN_dataset.append([StyleGAN_lis[i],4])"
      ],
      "metadata": {
        "id": "gN_JjA8jg1RI"
      },
      "execution_count": 5,
      "outputs": []
    },
    {
      "cell_type": "markdown",
      "source": [
        "Shuffling the Dataset"
      ],
      "metadata": {
        "id": "JgUblYPSJ8Oq"
      }
    },
    {
      "cell_type": "code",
      "source": [
        "random.shuffle(BigGAN_dataset)\n",
        "random.shuffle(GauGAN_dataset)\n",
        "random.shuffle(StarGAN_dataset)\n",
        "random.shuffle(StyleGAN_dataset)"
      ],
      "metadata": {
        "id": "1TwQojhR3fQq"
      },
      "execution_count": 6,
      "outputs": []
    },
    {
      "cell_type": "code",
      "source": [
        "dataset = GauGAN_dataset[:500] + StyleGAN_dataset[:500] + BigGAN_dataset[:500] + StarGAN_dataset[:500]"
      ],
      "metadata": {
        "id": "vM0OzZ1X65oX"
      },
      "execution_count": 7,
      "outputs": []
    },
    {
      "cell_type": "code",
      "source": [
        "random.shuffle(dataset)"
      ],
      "metadata": {
        "id": "lL4M69OR6_eA"
      },
      "execution_count": 8,
      "outputs": []
    },
    {
      "cell_type": "code",
      "source": [
        "print(dataset[2])"
      ],
      "metadata": {
        "colab": {
          "base_uri": "https://localhost:8080/"
        },
        "id": "QA-62LoW7TNI",
        "outputId": "01e410cf-99b2-4805-c9a6-8453992d68a2"
      },
      "execution_count": 9,
      "outputs": [
        {
          "output_type": "stream",
          "name": "stdout",
          "text": [
            "['/content/drive/MyDrive/Deep Fake/Dataset/GAN/stargan/0191.png', 3]\n"
          ]
        }
      ]
    },
    {
      "cell_type": "markdown",
      "source": [
        "**Creating the Training, Validation and Testing Dataset**"
      ],
      "metadata": {
        "id": "kB08cQZ3KB8h"
      }
    },
    {
      "cell_type": "code",
      "source": [
        "X_train=[]\n",
        "y_train=[]\n",
        "for x in dataset:\n",
        "    X_train.append(x[0])\n",
        "    y_train.append(x[1])"
      ],
      "metadata": {
        "id": "EzSO9fv14Cr5"
      },
      "execution_count": 10,
      "outputs": []
    },
    {
      "cell_type": "code",
      "source": [
        "X_train, X_val, y_train, y_val = train_test_split(X_train, y_train, test_size=0.2, random_state=42)\n",
        "X_val, X_test, y_val, y_test = train_test_split(X_val, y_val, test_size=0.5, random_state=42)"
      ],
      "metadata": {
        "id": "tPWSBVtY4TaO"
      },
      "execution_count": 11,
      "outputs": []
    },
    {
      "cell_type": "markdown",
      "source": [
        "**Preprocessing the Data**"
      ],
      "metadata": {
        "id": "AKaxa4WXKMpb"
      }
    },
    {
      "cell_type": "code",
      "source": [
        "def resize_image_3d(image_array, target_shape=(224, 224, 3)):\n",
        "    if len(image_array.shape) != 3 or image_array.shape[2] != target_shape[2]:\n",
        "        raise ValueError(f\"Input array must have shape (height, width, {target_shape[2]})\")\n",
        "\n",
        "    resized_image = np.array(Image.fromarray(image_array).resize((target_shape[1], target_shape[0])))\n",
        "\n",
        "    return resized_image\n"
      ],
      "metadata": {
        "id": "mDXjJ0C6-PZ8"
      },
      "execution_count": 12,
      "outputs": []
    },
    {
      "cell_type": "code",
      "source": [
        "Im_train = []\n",
        "Y_train = []\n",
        "\n",
        "for i in range(len(X_train)):\n",
        "    img = Image.open(X_train[i])\n",
        "    im_array = np.array(img)\n",
        "    if len(im_array.shape) != 3:\n",
        "        continue\n",
        "    else:\n",
        "        im_array = resize_image_3d(im_array)\n",
        "        Im_train.append(im_array)\n",
        "        Y_train.append(y_train[i])\n",
        "\n",
        "Im_valid = []\n",
        "Y_val = []\n",
        "\n",
        "for i in range(len(X_val)):\n",
        "    img = Image.open(X_val[i])\n",
        "    im_array = np.array(img)\n",
        "    if len(im_array.shape) != 3:\n",
        "        continue\n",
        "    else:\n",
        "        im_array = resize_image_3d(im_array)\n",
        "        Im_valid.append(im_array)\n",
        "        Y_val.append(y_val[i])\n"
      ],
      "metadata": {
        "id": "YCheYpwr4VtC"
      },
      "execution_count": 13,
      "outputs": []
    },
    {
      "cell_type": "markdown",
      "source": [
        "Loading the base model: **Resnet50**"
      ],
      "metadata": {
        "id": "Da4-S9JkKX5E"
      }
    },
    {
      "cell_type": "code",
      "source": [
        "base_model = ResNet50(weights='imagenet', include_top=False, input_shape=(224, 224, 3))\n"
      ],
      "metadata": {
        "id": "G2NF56Eva7U0",
        "colab": {
          "base_uri": "https://localhost:8080/"
        },
        "outputId": "d4ccc023-c50e-499d-bdb4-57cfe925c93c"
      },
      "execution_count": 14,
      "outputs": [
        {
          "output_type": "stream",
          "name": "stdout",
          "text": [
            "Downloading data from https://storage.googleapis.com/tensorflow/keras-applications/resnet/resnet50_weights_tf_dim_ordering_tf_kernels_notop.h5\n",
            "94765736/94765736 [==============================] - 1s 0us/step\n"
          ]
        }
      ]
    },
    {
      "cell_type": "markdown",
      "source": [
        "Freezing the layers of base model"
      ],
      "metadata": {
        "id": "Nep8q9KqKeFZ"
      }
    },
    {
      "cell_type": "code",
      "source": [
        "for layer in base_model.layers:\n",
        "    layer.trainable = False"
      ],
      "metadata": {
        "id": "F-sWlOV1a8px"
      },
      "execution_count": 15,
      "outputs": []
    },
    {
      "cell_type": "markdown",
      "source": [
        "Definingn the parameters and hyperparameters"
      ],
      "metadata": {
        "id": "Gvhc9IowKld7"
      }
    },
    {
      "cell_type": "code",
      "source": [
        "num_classes = 4\n",
        "batch_size = 30\n",
        "epochs = 10\n",
        "learning_rate = 0.0005"
      ],
      "metadata": {
        "id": "cOZDPW-GBy7N"
      },
      "execution_count": 17,
      "outputs": []
    },
    {
      "cell_type": "markdown",
      "source": [
        "Adding the layers"
      ],
      "metadata": {
        "id": "7Y-RykBuKjAh"
      }
    },
    {
      "cell_type": "code",
      "source": [
        "model = models.Sequential()\n",
        "model.add(base_model)\n",
        "model.add(layers.GlobalAveragePooling2D())\n",
        "model.add(layers.Dense(num_classes, activation='softmax'))"
      ],
      "metadata": {
        "id": "Ub5-kAFca_mp"
      },
      "execution_count": 18,
      "outputs": []
    },
    {
      "cell_type": "markdown",
      "source": [
        "Compiling the Model"
      ],
      "metadata": {
        "id": "vyPj0W_3KrQF"
      }
    },
    {
      "cell_type": "code",
      "source": [
        "sgd_optimizer = optimizers.SGD(learning_rate=learning_rate, momentum=0.9)\n",
        "model.compile(\n",
        "    optimizer=sgd_optimizer,\n",
        "    loss='categorical_crossentropy',\n",
        "    metrics=['accuracy']\n",
        ")"
      ],
      "metadata": {
        "id": "9HRMHbwjlGgW"
      },
      "execution_count": 19,
      "outputs": []
    },
    {
      "cell_type": "code",
      "source": [
        "Im_train = np.array(Im_train)\n",
        "Y_train = np.array(Y_train)\n",
        "Im_valid = np.array(Im_valid)\n",
        "Y_val = np.array(Y_val)"
      ],
      "metadata": {
        "id": "hqd-eBcmLw4D"
      },
      "execution_count": 20,
      "outputs": []
    },
    {
      "cell_type": "markdown",
      "source": [
        "**Encoding the output using One Hot Encoding**"
      ],
      "metadata": {
        "id": "ZqOStW-WKuv8"
      }
    },
    {
      "cell_type": "code",
      "source": [
        "encoder = OneHotEncoder(sparse=False)\n",
        "Y_train_encoded = encoder.fit_transform(Y_train.reshape(-1, 1))\n",
        "Y_val_encoded = encoder.transform(Y_val.reshape(-1, 1))"
      ],
      "metadata": {
        "colab": {
          "base_uri": "https://localhost:8080/"
        },
        "id": "oJm5XNuTUIhg",
        "outputId": "c379483d-55f3-4a3f-b6b9-a847b6fce833"
      },
      "execution_count": 21,
      "outputs": [
        {
          "output_type": "stream",
          "name": "stderr",
          "text": [
            "/usr/local/lib/python3.10/dist-packages/sklearn/preprocessing/_encoders.py:868: FutureWarning: `sparse` was renamed to `sparse_output` in version 1.2 and will be removed in 1.4. `sparse_output` is ignored unless you leave `sparse` to its default value.\n",
            "  warnings.warn(\n"
          ]
        }
      ]
    },
    {
      "cell_type": "code",
      "source": [
        "print(\"Encoder categories:\", encoder.categories_)\n",
        "label=np.array([1,2,3,4])\n",
        "print(encoder.transform(label.reshape(-1, 1)))"
      ],
      "metadata": {
        "colab": {
          "base_uri": "https://localhost:8080/"
        },
        "id": "EszGU13J-2qJ",
        "outputId": "8d0d3ff2-63fd-494c-f0a8-96272152b0eb"
      },
      "execution_count": 22,
      "outputs": [
        {
          "output_type": "stream",
          "name": "stdout",
          "text": [
            "Encoder categories: [array([1, 2, 3, 4])]\n",
            "[[1. 0. 0. 0.]\n",
            " [0. 1. 0. 0.]\n",
            " [0. 0. 1. 0.]\n",
            " [0. 0. 0. 1.]]\n"
          ]
        }
      ]
    },
    {
      "cell_type": "markdown",
      "source": [
        "**Training the Model**"
      ],
      "metadata": {
        "id": "-iV6NU_VK1yD"
      }
    },
    {
      "cell_type": "code",
      "source": [
        "history = model.fit(\n",
        "    Im_train, Y_train_encoded,\n",
        "    epochs=epochs,\n",
        "    validation_data=(Im_valid, Y_val_encoded)\n",
        ")"
      ],
      "metadata": {
        "colab": {
          "base_uri": "https://localhost:8080/"
        },
        "id": "oGM1fgg1bMI9",
        "outputId": "5334eeca-aedd-4dbe-e2d4-0fa3acff9d5b"
      },
      "execution_count": 23,
      "outputs": [
        {
          "output_type": "stream",
          "name": "stdout",
          "text": [
            "Epoch 1/10\n",
            "50/50 [==============================] - 445s 9s/step - loss: 0.7531 - accuracy: 0.6925 - val_loss: 0.4583 - val_accuracy: 0.8050\n",
            "Epoch 2/10\n",
            "50/50 [==============================] - 381s 8s/step - loss: 0.3303 - accuracy: 0.8775 - val_loss: 0.3583 - val_accuracy: 0.8500\n",
            "Epoch 3/10\n",
            "50/50 [==============================] - 428s 9s/step - loss: 0.2523 - accuracy: 0.9131 - val_loss: 0.3065 - val_accuracy: 0.8750\n",
            "Epoch 4/10\n",
            "50/50 [==============================] - 434s 9s/step - loss: 0.2128 - accuracy: 0.9294 - val_loss: 0.2873 - val_accuracy: 0.8650\n",
            "Epoch 5/10\n",
            "50/50 [==============================] - 380s 8s/step - loss: 0.1895 - accuracy: 0.9350 - val_loss: 0.2705 - val_accuracy: 0.8850\n",
            "Epoch 6/10\n",
            "50/50 [==============================] - 389s 8s/step - loss: 0.1694 - accuracy: 0.9438 - val_loss: 0.2578 - val_accuracy: 0.8850\n",
            "Epoch 7/10\n",
            "50/50 [==============================] - 420s 8s/step - loss: 0.1549 - accuracy: 0.9513 - val_loss: 0.2485 - val_accuracy: 0.9000\n",
            "Epoch 8/10\n",
            "50/50 [==============================] - 381s 8s/step - loss: 0.1425 - accuracy: 0.9538 - val_loss: 0.2505 - val_accuracy: 0.8950\n",
            "Epoch 9/10\n",
            "50/50 [==============================] - 421s 8s/step - loss: 0.1346 - accuracy: 0.9594 - val_loss: 0.2372 - val_accuracy: 0.9000\n",
            "Epoch 10/10\n",
            "50/50 [==============================] - 420s 8s/step - loss: 0.1253 - accuracy: 0.9625 - val_loss: 0.2346 - val_accuracy: 0.9000\n"
          ]
        }
      ]
    },
    {
      "cell_type": "markdown",
      "source": [
        "Learning Curves"
      ],
      "metadata": {
        "id": "EN4or0DzK6r5"
      }
    },
    {
      "cell_type": "code",
      "source": [
        "acc = history.history['accuracy']\n",
        "val_acc = history.history['val_accuracy']\n",
        "\n",
        "loss = history.history['loss']\n",
        "val_loss = history.history['val_loss']\n",
        "\n",
        "plt.figure(figsize=(8, 8))\n",
        "plt.subplot(2, 1, 1)\n",
        "plt.plot(acc, label='Training Accuracy')\n",
        "plt.plot(val_acc, label='Validation Accuracy')\n",
        "plt.legend(loc='lower right')\n",
        "plt.ylabel('Accuracy')\n",
        "plt.ylim([min(plt.ylim()),1])\n",
        "plt.title('Training and Validation Accuracy')\n",
        "\n",
        "plt.subplot(2, 1, 2)\n",
        "plt.plot(loss, label='Training Loss')\n",
        "plt.plot(val_loss, label='Validation Loss')\n",
        "plt.legend(loc='upper right')\n",
        "plt.ylabel('Cross Entropy')\n",
        "plt.ylim([0,1.0])\n",
        "plt.title('Training and Validation Loss')\n",
        "plt.xlabel('epoch')\n",
        "plt.show()"
      ],
      "metadata": {
        "id": "ruH5UXOOK_g8",
        "colab": {
          "base_uri": "https://localhost:8080/",
          "height": 718
        },
        "outputId": "f96b4df5-573f-47ca-ac73-e9968c47be2f"
      },
      "execution_count": 26,
      "outputs": [
        {
          "output_type": "display_data",
          "data": {
            "text/plain": [
              "<Figure size 800x800 with 2 Axes>"
            ],
            "image/png": "[encoded data removed]"
          },
          "metadata": {}
        }
      ]
    },
    {
      "cell_type": "markdown",
      "source": [
        "**Fine Tuning the Model**"
      ],
      "metadata": {
        "id": "tQ1dExqALS3T"
      }
    },
    {
      "cell_type": "markdown",
      "source": [
        "Unfreezing the last layers"
      ],
      "metadata": {
        "id": "gpgGAEcvLW4V"
      }
    },
    {
      "cell_type": "code",
      "source": [
        "for layer in model.layers:\n",
        "    layer.trainable = True\n",
        "\n",
        "for layer in model.layers[:40]:\n",
        "  layer.trainable = False"
      ],
      "metadata": {
        "id": "NbCvAQ-Alej5"
      },
      "execution_count": 27,
      "outputs": []
    },
    {
      "cell_type": "code",
      "source": [
        "sgd_optimizer = optimizers.SGD(learning_rate=learning_rate/10, momentum=0.9)\n",
        "model.compile(\n",
        "    optimizer=sgd_optimizer,\n",
        "    loss='categorical_crossentropy',\n",
        "    metrics=['accuracy']\n",
        ")"
      ],
      "metadata": {
        "id": "ZV7ccMwKLfmJ"
      },
      "execution_count": 28,
      "outputs": []
    },
    {
      "cell_type": "markdown",
      "source": [
        "Traing the model"
      ],
      "metadata": {
        "id": "o1iEwrN_LhTs"
      }
    },
    {
      "cell_type": "code",
      "source": [
        "history_fine = model.fit(\n",
        "    Im_train, Y_train_encoded,\n",
        "    epochs=15,\n",
        "    initial_epoch=history.epoch[-1],\n",
        "    validation_data=(Im_valid, Y_val_encoded)\n",
        ")"
      ],
      "metadata": {
        "colab": {
          "base_uri": "https://localhost:8080/"
        },
        "id": "QluMgzr8ljFw",
        "outputId": "69e71a80-5a8a-4938-fc18-92c2f4ca33fc"
      },
      "execution_count": 29,
      "outputs": [
        {
          "output_type": "stream",
          "name": "stdout",
          "text": [
            "Epoch 10/15\n",
            "50/50 [==============================] - 400s 8s/step - loss: 0.1173 - accuracy: 0.9675 - val_loss: 0.2346 - val_accuracy: 0.9000\n",
            "Epoch 11/15\n",
            "50/50 [==============================] - 381s 8s/step - loss: 0.1173 - accuracy: 0.9675 - val_loss: 0.2346 - val_accuracy: 0.9000\n",
            "Epoch 12/15\n",
            "50/50 [==============================] - 421s 8s/step - loss: 0.1173 - accuracy: 0.9675 - val_loss: 0.2346 - val_accuracy: 0.9000\n",
            "Epoch 13/15\n",
            "50/50 [==============================] - 382s 8s/step - loss: 0.1173 - accuracy: 0.9675 - val_loss: 0.2346 - val_accuracy: 0.9000\n",
            "Epoch 14/15\n",
            "50/50 [==============================] - 419s 8s/step - loss: 0.1173 - accuracy: 0.9675 - val_loss: 0.2346 - val_accuracy: 0.9000\n",
            "Epoch 15/15\n",
            "50/50 [==============================] - 378s 8s/step - loss: 0.1173 - accuracy: 0.9675 - val_loss: 0.2346 - val_accuracy: 0.9000\n"
          ]
        }
      ]
    },
    {
      "cell_type": "code",
      "source": [
        "acc += history_fine.history['accuracy']\n",
        "val_acc += history_fine.history['val_accuracy']\n",
        "\n",
        "loss += history_fine.history['loss']\n",
        "val_loss += history_fine.history['val_loss']"
      ],
      "metadata": {
        "id": "skJKsTXWLtY-"
      },
      "execution_count": 30,
      "outputs": []
    },
    {
      "cell_type": "code",
      "source": [
        "plt.figure(figsize=(8, 8))\n",
        "plt.subplot(2, 1, 1)\n",
        "plt.plot(acc, label='Training Accuracy')\n",
        "plt.plot(val_acc, label='Validation Accuracy')\n",
        "plt.ylim([0.8, 1])\n",
        "plt.plot([9,9],\n",
        "          plt.ylim(), label='Start Fine Tuning')\n",
        "plt.legend(loc='lower right')\n",
        "plt.title('Training and Validation Accuracy')\n",
        "\n",
        "plt.subplot(2, 1, 2)\n",
        "plt.plot(loss, label='Training Loss')\n",
        "plt.plot(val_loss, label='Validation Loss')\n",
        "plt.ylim([0, 1.0])\n",
        "plt.plot([9,9],\n",
        "         plt.ylim(), label='Start Fine Tuning')\n",
        "plt.legend(loc='upper right')\n",
        "plt.title('Training and Validation Loss')\n",
        "plt.xlabel('epoch')\n",
        "plt.show()"
      ],
      "metadata": {
        "id": "h7zIurLoLvgM",
        "colab": {
          "base_uri": "https://localhost:8080/",
          "height": 718
        },
        "outputId": "153b0c19-5850-4c49-913d-b342bac22b83"
      },
      "execution_count": 31,
      "outputs": [
        {
          "output_type": "display_data",
          "data": {
            "text/plain": [
              "<Figure size 800x800 with 2 Axes>"
            ],
            "image/png": "[encoded data removed]"
          },
          "metadata": {}
        }
      ]
    },
    {
      "cell_type": "code",
      "source": [
        "fine_tuned_model_path = '/content/drive/MyDrive/Deep Fake/fine_tuned_level3GAN.h5'\n",
        "model.save(fine_tuned_model_path)"
      ],
      "metadata": {
        "id": "PjwwmK7VlrSJ"
      },
      "execution_count": 32,
      "outputs": []
    },
    {
      "cell_type": "markdown",
      "source": [
        "**Testing the Model**"
      ],
      "metadata": {
        "id": "cjw9NLwYLzee"
      }
    },
    {
      "cell_type": "code",
      "source": [
        "Im_test = []\n",
        "Y_test = []\n",
        "\n",
        "for i in range(len(X_test)):\n",
        "    img = Image.open(X_test[i])\n",
        "    im_array = np.array(img)\n",
        "    if len(im_array.shape) != 3:\n",
        "        continue\n",
        "    else:\n",
        "        im_array = resize_image_3d(im_array)\n",
        "        Im_test.append(im_array)\n",
        "        Y_test.append(y_test[i])"
      ],
      "metadata": {
        "id": "wEfzgxb0d6Nj"
      },
      "execution_count": 33,
      "outputs": []
    },
    {
      "cell_type": "code",
      "source": [
        "Im_test = np.array(Im_test)\n",
        "Y_test = np.array(Y_test)"
      ],
      "metadata": {
        "id": "Kc6hCPZDeJTt"
      },
      "execution_count": 34,
      "outputs": []
    },
    {
      "cell_type": "code",
      "source": [
        "Y_test_encoded = encoder.transform(Y_test.reshape(-1, 1))"
      ],
      "metadata": {
        "id": "vqldXqf4rCwj"
      },
      "execution_count": 35,
      "outputs": []
    },
    {
      "cell_type": "markdown",
      "source": [
        "Evaluating the Model"
      ],
      "metadata": {
        "id": "50fyiu6BL3Kv"
      }
    },
    {
      "cell_type": "code",
      "source": [
        "evaluation = model.evaluate(Im_test, Y_test_encoded)"
      ],
      "metadata": {
        "colab": {
          "base_uri": "https://localhost:8080/"
        },
        "id": "JLK892FWfu0v",
        "outputId": "c4acc882-c92a-4df6-809d-65472a3a400b"
      },
      "execution_count": 36,
      "outputs": [
        {
          "output_type": "stream",
          "name": "stdout",
          "text": [
            "7/7 [==============================] - 45s 6s/step - loss: 0.1900 - accuracy: 0.9350\n"
          ]
        }
      ]
    },
    {
      "cell_type": "code",
      "source": [
        "accuracy = evaluation[1]\n",
        "\n",
        "print(f'Test Accuracy: {accuracy}')"
      ],
      "metadata": {
        "colab": {
          "base_uri": "https://localhost:8080/"
        },
        "id": "ZWHWBOzXfx9M",
        "outputId": "e15d8995-071b-4ea0-aa88-5a6d832fc3b3"
      },
      "execution_count": 37,
      "outputs": [
        {
          "output_type": "stream",
          "name": "stdout",
          "text": [
            "Test Accuracy: 0.9350000023841858\n"
          ]
        }
      ]
    }
  ]
}